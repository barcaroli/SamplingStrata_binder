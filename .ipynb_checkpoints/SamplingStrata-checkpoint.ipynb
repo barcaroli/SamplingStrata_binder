{
 "cells": [
  {
   "cell_type": "markdown",
   "id": "1175415a-e5cb-47f8-9659-76fb701c9425",
   "metadata": {},
   "source": [
    "# Example of SamplingStrata application"
   ]
  },
  {
   "cell_type": "markdown",
   "id": "90c19a5b-330e-4cb0-bf17-aa0813b9453c",
   "metadata": {},
   "source": [
    "## Preparation of inputs required by the optimization step\n",
    "\n",
    "### Frame\n",
    "\n",
    "For sake of simplicity, let us consider a subset of the *swissmunicipalities* dataset:"
   ]
  },
  {
   "cell_type": "code",
   "execution_count": 1,
   "id": "430f3f15-d174-4043-8ea8-d66a1179d318",
   "metadata": {},
   "outputs": [
    {
     "name": "stderr",
     "output_type": "stream",
     "text": [
      "Caricamento del pacchetto richiesto: memoise\n",
      "\n",
      "Caricamento del pacchetto richiesto: doParallel\n",
      "\n",
      "Caricamento del pacchetto richiesto: foreach\n",
      "\n",
      "Caricamento del pacchetto richiesto: iterators\n",
      "\n",
      "Caricamento del pacchetto richiesto: parallel\n",
      "\n",
      "Caricamento del pacchetto richiesto: pbapply\n",
      "\n",
      "Caricamento del pacchetto richiesto: formattable\n",
      "\n",
      "Caricamento del pacchetto richiesto: SamplingBigData\n",
      "\n",
      "\n",
      "\n",
      "Report issues at https://github.com/barcaroli/SamplingStrata/issues\n",
      "\n",
      "\n",
      "Get a complete documentation on https://barcaroli.github.io/SamplingStrata\n",
      "\n",
      "\n"
     ]
    },
    {
     "data": {
      "text/html": [
       "<table class=\"dataframe\">\n",
       "<caption>A data.frame: 6 × 8</caption>\n",
       "<thead>\n",
       "\t<tr><th></th><th scope=col>REG</th><th scope=col>COM</th><th scope=col>Nom</th><th scope=col>HApoly</th><th scope=col>Surfacesbois</th><th scope=col>Surfacescult</th><th scope=col>Airbat</th><th scope=col>POPTOT</th></tr>\n",
       "\t<tr><th></th><th scope=col>&lt;int&gt;</th><th scope=col>&lt;int&gt;</th><th scope=col>&lt;fct&gt;</th><th scope=col>&lt;int&gt;</th><th scope=col>&lt;int&gt;</th><th scope=col>&lt;int&gt;</th><th scope=col>&lt;int&gt;</th><th scope=col>&lt;int&gt;</th></tr>\n",
       "</thead>\n",
       "<tbody>\n",
       "\t<tr><th scope=row>2</th><td>1</td><td>6621</td><td>Geneve   </td><td>1593</td><td>  67</td><td>  31</td><td> 773</td><td>177964</td></tr>\n",
       "\t<tr><th scope=row>3</th><td>3</td><td>2701</td><td>Basel    </td><td>2391</td><td>  97</td><td>  93</td><td>1023</td><td>166558</td></tr>\n",
       "\t<tr><th scope=row>4</th><td>2</td><td> 351</td><td>Bern     </td><td>5162</td><td>1726</td><td>1041</td><td>1070</td><td>128634</td></tr>\n",
       "\t<tr><th scope=row>5</th><td>1</td><td>5586</td><td>Lausanne </td><td>4136</td><td>1635</td><td> 714</td><td> 856</td><td>124914</td></tr>\n",
       "\t<tr><th scope=row>9</th><td>2</td><td> 371</td><td>Biel (BE)</td><td>2123</td><td> 976</td><td> 196</td><td> 463</td><td> 48655</td></tr>\n",
       "\t<tr><th scope=row>10</th><td>2</td><td> 942</td><td>Thun     </td><td>2158</td><td> 425</td><td> 694</td><td> 523</td><td> 40377</td></tr>\n",
       "</tbody>\n",
       "</table>\n"
      ],
      "text/latex": [
       "A data.frame: 6 × 8\n",
       "\\begin{tabular}{r|llllllll}\n",
       "  & REG & COM & Nom & HApoly & Surfacesbois & Surfacescult & Airbat & POPTOT\\\\\n",
       "  & <int> & <int> & <fct> & <int> & <int> & <int> & <int> & <int>\\\\\n",
       "\\hline\n",
       "\t2 & 1 & 6621 & Geneve    & 1593 &   67 &   31 &  773 & 177964\\\\\n",
       "\t3 & 3 & 2701 & Basel     & 2391 &   97 &   93 & 1023 & 166558\\\\\n",
       "\t4 & 2 &  351 & Bern      & 5162 & 1726 & 1041 & 1070 & 128634\\\\\n",
       "\t5 & 1 & 5586 & Lausanne  & 4136 & 1635 &  714 &  856 & 124914\\\\\n",
       "\t9 & 2 &  371 & Biel (BE) & 2123 &  976 &  196 &  463 &  48655\\\\\n",
       "\t10 & 2 &  942 & Thun      & 2158 &  425 &  694 &  523 &  40377\\\\\n",
       "\\end{tabular}\n"
      ],
      "text/markdown": [
       "\n",
       "A data.frame: 6 × 8\n",
       "\n",
       "| <!--/--> | REG &lt;int&gt; | COM &lt;int&gt; | Nom &lt;fct&gt; | HApoly &lt;int&gt; | Surfacesbois &lt;int&gt; | Surfacescult &lt;int&gt; | Airbat &lt;int&gt; | POPTOT &lt;int&gt; |\n",
       "|---|---|---|---|---|---|---|---|---|\n",
       "| 2 | 1 | 6621 | Geneve    | 1593 |   67 |   31 |  773 | 177964 |\n",
       "| 3 | 3 | 2701 | Basel     | 2391 |   97 |   93 | 1023 | 166558 |\n",
       "| 4 | 2 |  351 | Bern      | 5162 | 1726 | 1041 | 1070 | 128634 |\n",
       "| 5 | 1 | 5586 | Lausanne  | 4136 | 1635 |  714 |  856 | 124914 |\n",
       "| 9 | 2 |  371 | Biel (BE) | 2123 |  976 |  196 |  463 |  48655 |\n",
       "| 10 | 2 |  942 | Thun      | 2158 |  425 |  694 |  523 |  40377 |\n",
       "\n"
      ],
      "text/plain": [
       "   REG COM  Nom       HApoly Surfacesbois Surfacescult Airbat POPTOT\n",
       "2  1   6621 Geneve    1593     67           31          773   177964\n",
       "3  3   2701 Basel     2391     97           93         1023   166558\n",
       "4  2    351 Bern      5162   1726         1041         1070   128634\n",
       "5  1   5586 Lausanne  4136   1635          714          856   124914\n",
       "9  2    371 Biel (BE) 2123    976          196          463    48655\n",
       "10 2    942 Thun      2158    425          694          523    40377"
      ]
     },
     "metadata": {},
     "output_type": "display_data"
    }
   ],
   "source": [
    "library(SamplingStrata)\n",
    "data(swissmunicipalities)\n",
    "swissmun <- swissmunicipalities[swissmunicipalities$REG < 4,\n",
    "                                c(\"REG\",\"COM\",\"Nom\",\"HApoly\",\n",
    "                                  \"Surfacesbois\",\"Surfacescult\",\n",
    "                                  \"Airbat\",\"POPTOT\")]\n",
    "head(swissmun)"
   ]
  },
  {
   "cell_type": "code",
   "execution_count": null,
   "id": "7fa15e45-91be-41d1-a196-56790635f341",
   "metadata": {},
   "outputs": [],
   "source": []
  }
 ],
 "metadata": {
  "kernelspec": {
   "display_name": "R",
   "language": "R",
   "name": "ir"
  },
  "language_info": {
   "codemirror_mode": "r",
   "file_extension": ".r",
   "mimetype": "text/x-r-source",
   "name": "R",
   "pygments_lexer": "r",
   "version": "4.1.1"
  }
 },
 "nbformat": 4,
 "nbformat_minor": 5
}
