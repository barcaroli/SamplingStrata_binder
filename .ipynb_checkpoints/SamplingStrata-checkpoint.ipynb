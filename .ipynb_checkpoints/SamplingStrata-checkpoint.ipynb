{
 "cells": [
  {
   "cell_type": "markdown",
   "id": "1175415a-e5cb-47f8-9659-76fb701c9425",
   "metadata": {},
   "source": [
    "# Example of SamplingStrata application"
   ]
  },
  {
   "cell_type": "markdown",
   "id": "90c19a5b-330e-4cb0-bf17-aa0813b9453c",
   "metadata": {},
   "source": [
    "## Preparation of inputs required by the optimization step\n",
    "\n",
    "### Frame\n",
    "\n",
    "For sake of simplicity, let us consider a subset of the *swissmunicipalities* dataset:"
   ]
  },
  {
   "cell_type": "code",
   "execution_count": 1,
   "id": "430f3f15-d174-4043-8ea8-d66a1179d318",
   "metadata": {},
   "outputs": [
    {
     "name": "stderr",
     "output_type": "stream",
     "text": [
      "Caricamento del pacchetto richiesto: memoise\n",
      "\n",
      "Caricamento del pacchetto richiesto: doParallel\n",
      "\n",
      "Caricamento del pacchetto richiesto: foreach\n",
      "\n",
      "Caricamento del pacchetto richiesto: iterators\n",
      "\n",
      "Caricamento del pacchetto richiesto: parallel\n",
      "\n",
      "Caricamento del pacchetto richiesto: pbapply\n",
      "\n",
      "Caricamento del pacchetto richiesto: formattable\n",
      "\n",
      "Caricamento del pacchetto richiesto: SamplingBigData\n",
      "\n",
      "\n",
      "\n",
      "Report issues at https://github.com/barcaroli/SamplingStrata/issues\n",
      "\n",
      "\n",
      "Get a complete documentation on https://barcaroli.github.io/SamplingStrata\n",
      "\n",
      "\n"
     ]
    },
    {
     "data": {
      "text/html": [
       "<table class=\"dataframe\">\n",
       "<caption>A data.frame: 6 × 8</caption>\n",
       "<thead>\n",
       "\t<tr><th></th><th scope=col>REG</th><th scope=col>COM</th><th scope=col>Nom</th><th scope=col>HApoly</th><th scope=col>Surfacesbois</th><th scope=col>Surfacescult</th><th scope=col>Airbat</th><th scope=col>POPTOT</th></tr>\n",
       "\t<tr><th></th><th scope=col>&lt;int&gt;</th><th scope=col>&lt;int&gt;</th><th scope=col>&lt;fct&gt;</th><th scope=col>&lt;int&gt;</th><th scope=col>&lt;int&gt;</th><th scope=col>&lt;int&gt;</th><th scope=col>&lt;int&gt;</th><th scope=col>&lt;int&gt;</th></tr>\n",
       "</thead>\n",
       "<tbody>\n",
       "\t<tr><th scope=row>2</th><td>1</td><td>6621</td><td>Geneve   </td><td>1593</td><td>  67</td><td>  31</td><td> 773</td><td>177964</td></tr>\n",
       "\t<tr><th scope=row>3</th><td>3</td><td>2701</td><td>Basel    </td><td>2391</td><td>  97</td><td>  93</td><td>1023</td><td>166558</td></tr>\n",
       "\t<tr><th scope=row>4</th><td>2</td><td> 351</td><td>Bern     </td><td>5162</td><td>1726</td><td>1041</td><td>1070</td><td>128634</td></tr>\n",
       "\t<tr><th scope=row>5</th><td>1</td><td>5586</td><td>Lausanne </td><td>4136</td><td>1635</td><td> 714</td><td> 856</td><td>124914</td></tr>\n",
       "\t<tr><th scope=row>9</th><td>2</td><td> 371</td><td>Biel (BE)</td><td>2123</td><td> 976</td><td> 196</td><td> 463</td><td> 48655</td></tr>\n",
       "\t<tr><th scope=row>10</th><td>2</td><td> 942</td><td>Thun     </td><td>2158</td><td> 425</td><td> 694</td><td> 523</td><td> 40377</td></tr>\n",
       "</tbody>\n",
       "</table>\n"
      ],
      "text/latex": [
       "A data.frame: 6 × 8\n",
       "\\begin{tabular}{r|llllllll}\n",
       "  & REG & COM & Nom & HApoly & Surfacesbois & Surfacescult & Airbat & POPTOT\\\\\n",
       "  & <int> & <int> & <fct> & <int> & <int> & <int> & <int> & <int>\\\\\n",
       "\\hline\n",
       "\t2 & 1 & 6621 & Geneve    & 1593 &   67 &   31 &  773 & 177964\\\\\n",
       "\t3 & 3 & 2701 & Basel     & 2391 &   97 &   93 & 1023 & 166558\\\\\n",
       "\t4 & 2 &  351 & Bern      & 5162 & 1726 & 1041 & 1070 & 128634\\\\\n",
       "\t5 & 1 & 5586 & Lausanne  & 4136 & 1635 &  714 &  856 & 124914\\\\\n",
       "\t9 & 2 &  371 & Biel (BE) & 2123 &  976 &  196 &  463 &  48655\\\\\n",
       "\t10 & 2 &  942 & Thun      & 2158 &  425 &  694 &  523 &  40377\\\\\n",
       "\\end{tabular}\n"
      ],
      "text/markdown": [
       "\n",
       "A data.frame: 6 × 8\n",
       "\n",
       "| <!--/--> | REG &lt;int&gt; | COM &lt;int&gt; | Nom &lt;fct&gt; | HApoly &lt;int&gt; | Surfacesbois &lt;int&gt; | Surfacescult &lt;int&gt; | Airbat &lt;int&gt; | POPTOT &lt;int&gt; |\n",
       "|---|---|---|---|---|---|---|---|---|\n",
       "| 2 | 1 | 6621 | Geneve    | 1593 |   67 |   31 |  773 | 177964 |\n",
       "| 3 | 3 | 2701 | Basel     | 2391 |   97 |   93 | 1023 | 166558 |\n",
       "| 4 | 2 |  351 | Bern      | 5162 | 1726 | 1041 | 1070 | 128634 |\n",
       "| 5 | 1 | 5586 | Lausanne  | 4136 | 1635 |  714 |  856 | 124914 |\n",
       "| 9 | 2 |  371 | Biel (BE) | 2123 |  976 |  196 |  463 |  48655 |\n",
       "| 10 | 2 |  942 | Thun      | 2158 |  425 |  694 |  523 |  40377 |\n",
       "\n"
      ],
      "text/plain": [
       "   REG COM  Nom       HApoly Surfacesbois Surfacescult Airbat POPTOT\n",
       "2  1   6621 Geneve    1593     67           31          773   177964\n",
       "3  3   2701 Basel     2391     97           93         1023   166558\n",
       "4  2    351 Bern      5162   1726         1041         1070   128634\n",
       "5  1   5586 Lausanne  4136   1635          714          856   124914\n",
       "9  2    371 Biel (BE) 2123    976          196          463    48655\n",
       "10 2    942 Thun      2158    425          694          523    40377"
      ]
     },
     "metadata": {},
     "output_type": "display_data"
    }
   ],
   "source": [
    "library(SamplingStrata)\n",
    "data(swissmunicipalities)\n",
    "swissmun <- swissmunicipalities[swissmunicipalities$REG < 4,\n",
    "                                c(\"REG\",\"COM\",\"Nom\",\"HApoly\",\n",
    "                                  \"Surfacesbois\",\"Surfacescult\",\n",
    "                                  \"Airbat\",\"POPTOT\")]\n",
    "head(swissmun)"
   ]
  },
  {
   "cell_type": "markdown",
   "id": "a696a783-ac9c-4983-850d-edc44cbc5c74",
   "metadata": {},
   "source": [
    "In order to limit the processing time we have selected only the first 3 regions and only the variables of interest for our example. \n",
    "Each row in this dataset contains information on a swiss municipalities, identified by *COM* and *Nom*, and belonging to one of three selected regions (*REG*).\n",
    "\n",
    "Suppose we want to plan a sampling survey where the *target estimates Ys* are the totals of *wooded area* (*Surfacesbois*) and *buildings area* (*Airbat*) for each of the 3 regions (*domains of interest*). Suppose also that in each municipalities are always updated the values of *total area* (*HApoly*) and *total population* (*POPTOT*). From the correlation matrix:"
   ]
  },
  {
   "cell_type": "code",
   "execution_count": 2,
   "id": "ad2873e1-7d6c-48e8-8128-a557a448ea98",
   "metadata": {},
   "outputs": [
    {
     "data": {
      "text/html": [
       "<table class=\"dataframe\">\n",
       "<caption>A matrix: 5 × 5 of type dbl</caption>\n",
       "<thead>\n",
       "\t<tr><th></th><th scope=col>HApoly</th><th scope=col>Surfacesbois</th><th scope=col>Surfacescult</th><th scope=col>Airbat</th><th scope=col>POPTOT</th></tr>\n",
       "</thead>\n",
       "<tbody>\n",
       "\t<tr><th scope=row>HApoly</th><td>1.00000000</td><td>0.76920101</td><td>0.3398758</td><td>0.2602289</td><td>0.09940795</td></tr>\n",
       "\t<tr><th scope=row>Surfacesbois</th><td>0.76920101</td><td>1.00000000</td><td>0.4492188</td><td>0.2968918</td><td>0.09881328</td></tr>\n",
       "\t<tr><th scope=row>Surfacescult</th><td>0.33987579</td><td>0.44921881</td><td>1.0000000</td><td>0.3230496</td><td>0.11451750</td></tr>\n",
       "\t<tr><th scope=row>Airbat</th><td>0.26022890</td><td>0.29689183</td><td>0.3230496</td><td>1.0000000</td><td>0.86896631</td></tr>\n",
       "\t<tr><th scope=row>POPTOT</th><td>0.09940795</td><td>0.09881328</td><td>0.1145175</td><td>0.8689663</td><td>1.00000000</td></tr>\n",
       "</tbody>\n",
       "</table>\n"
      ],
      "text/latex": [
       "A matrix: 5 × 5 of type dbl\n",
       "\\begin{tabular}{r|lllll}\n",
       "  & HApoly & Surfacesbois & Surfacescult & Airbat & POPTOT\\\\\n",
       "\\hline\n",
       "\tHApoly & 1.00000000 & 0.76920101 & 0.3398758 & 0.2602289 & 0.09940795\\\\\n",
       "\tSurfacesbois & 0.76920101 & 1.00000000 & 0.4492188 & 0.2968918 & 0.09881328\\\\\n",
       "\tSurfacescult & 0.33987579 & 0.44921881 & 1.0000000 & 0.3230496 & 0.11451750\\\\\n",
       "\tAirbat & 0.26022890 & 0.29689183 & 0.3230496 & 1.0000000 & 0.86896631\\\\\n",
       "\tPOPTOT & 0.09940795 & 0.09881328 & 0.1145175 & 0.8689663 & 1.00000000\\\\\n",
       "\\end{tabular}\n"
      ],
      "text/markdown": [
       "\n",
       "A matrix: 5 × 5 of type dbl\n",
       "\n",
       "| <!--/--> | HApoly | Surfacesbois | Surfacescult | Airbat | POPTOT |\n",
       "|---|---|---|---|---|---|\n",
       "| HApoly | 1.00000000 | 0.76920101 | 0.3398758 | 0.2602289 | 0.09940795 |\n",
       "| Surfacesbois | 0.76920101 | 1.00000000 | 0.4492188 | 0.2968918 | 0.09881328 |\n",
       "| Surfacescult | 0.33987579 | 0.44921881 | 1.0000000 | 0.3230496 | 0.11451750 |\n",
       "| Airbat | 0.26022890 | 0.29689183 | 0.3230496 | 1.0000000 | 0.86896631 |\n",
       "| POPTOT | 0.09940795 | 0.09881328 | 0.1145175 | 0.8689663 | 1.00000000 |\n",
       "\n"
      ],
      "text/plain": [
       "             HApoly     Surfacesbois Surfacescult Airbat    POPTOT    \n",
       "HApoly       1.00000000 0.76920101   0.3398758    0.2602289 0.09940795\n",
       "Surfacesbois 0.76920101 1.00000000   0.4492188    0.2968918 0.09881328\n",
       "Surfacescult 0.33987579 0.44921881   1.0000000    0.3230496 0.11451750\n",
       "Airbat       0.26022890 0.29689183   0.3230496    1.0000000 0.86896631\n",
       "POPTOT       0.09940795 0.09881328   0.1145175    0.8689663 1.00000000"
      ]
     },
     "metadata": {},
     "output_type": "display_data"
    }
   ],
   "source": [
    "cor(swissmun[,c(4:8)])"
   ]
  },
  {
   "cell_type": "markdown",
   "id": "be33e230-fd06-48c5-b89f-5d8b6797692c",
   "metadata": {},
   "source": [
    "we see that the correlations between *Surfacesbois* and *HApoly*, from one side, and between *Airbat* and *POPTOT* from the other side, are high (respectively 0.77 and 0.87), so we decide that both *HApoly* and *POPTOT* play the role of *stratification variables Xs* in our frame.\n",
    "\n",
    "In a first moment we decide to treat the stratification variables as categorical, so we have to categorize them. A suitable way to do so, is to apply a *k-means clustering* method by using the function *var.bin*:"
   ]
  },
  {
   "cell_type": "code",
   "execution_count": 3,
   "id": "5166c974-9ac1-44e8-869c-b475398d3382",
   "metadata": {},
   "outputs": [
    {
     "data": {
      "text/plain": [
       "\n",
       "  1   2   3   4   5   6   7   8   9  10  11  12  13  14  15 \n",
       "311 345 281 214 158 126 111  84  66  32  29  32  15  11   8 "
      ]
     },
     "metadata": {},
     "output_type": "display_data"
    },
    {
     "data": {
      "text/plain": [
       "\n",
       "  1   2   3   4   5   6   7   8   9  10  11  12  13  14  15 \n",
       "452 388 266 193 124 109  79  59  42  33  35  28   5   6   4 "
      ]
     },
     "metadata": {},
     "output_type": "display_data"
    }
   ],
   "source": [
    "swissmun$HApoly.cat <- var.bin(swissmun$HApoly,15)\n",
    "table(swissmun$HApoly.cat)\n",
    "swissmun$POPTOT.cat <- var.bin(swissmun$POPTOT,15)\n",
    "table(swissmun$POPTOT.cat)"
   ]
  },
  {
   "cell_type": "markdown",
   "id": "dbd341fb-868e-466c-ad4f-9d2e7bd1f9b8",
   "metadata": {},
   "source": [
    "We can now define the *frame* dataframe in the format required by SamplingStrata. Function *buildFrameDF* permits to organize data in a suitable mode for next processing:"
   ]
  },
  {
   "cell_type": "code",
   "execution_count": 6,
   "id": "2b1b25f1-53f3-4e35-99e5-99cb48c0b235",
   "metadata": {},
   "outputs": [
    {
     "data": {
      "text/html": [
       "<table class=\"dataframe\">\n",
       "<caption>A data.frame: 6 × 6</caption>\n",
       "<thead>\n",
       "\t<tr><th></th><th scope=col>id</th><th scope=col>X1</th><th scope=col>X2</th><th scope=col>Y1</th><th scope=col>Y2</th><th scope=col>domainvalue</th></tr>\n",
       "\t<tr><th></th><th scope=col>&lt;int&gt;</th><th scope=col>&lt;dbl&gt;</th><th scope=col>&lt;dbl&gt;</th><th scope=col>&lt;int&gt;</th><th scope=col>&lt;int&gt;</th><th scope=col>&lt;int&gt;</th></tr>\n",
       "</thead>\n",
       "<tbody>\n",
       "\t<tr><th scope=row>1</th><td>6621</td><td>15</td><td> 8</td><td> 773</td><td>  67</td><td>1</td></tr>\n",
       "\t<tr><th scope=row>2</th><td>2701</td><td>15</td><td> 9</td><td>1023</td><td>  97</td><td>3</td></tr>\n",
       "\t<tr><th scope=row>3</th><td> 351</td><td>15</td><td>12</td><td>1070</td><td>1726</td><td>2</td></tr>\n",
       "\t<tr><th scope=row>4</th><td>5586</td><td>15</td><td>11</td><td> 856</td><td>1635</td><td>1</td></tr>\n",
       "\t<tr><th scope=row>5</th><td> 371</td><td>14</td><td> 9</td><td> 463</td><td> 976</td><td>2</td></tr>\n",
       "\t<tr><th scope=row>6</th><td> 942</td><td>14</td><td> 9</td><td> 523</td><td> 425</td><td>2</td></tr>\n",
       "</tbody>\n",
       "</table>\n"
      ],
      "text/latex": [
       "A data.frame: 6 × 6\n",
       "\\begin{tabular}{r|llllll}\n",
       "  & id & X1 & X2 & Y1 & Y2 & domainvalue\\\\\n",
       "  & <int> & <dbl> & <dbl> & <int> & <int> & <int>\\\\\n",
       "\\hline\n",
       "\t1 & 6621 & 15 &  8 &  773 &   67 & 1\\\\\n",
       "\t2 & 2701 & 15 &  9 & 1023 &   97 & 3\\\\\n",
       "\t3 &  351 & 15 & 12 & 1070 & 1726 & 2\\\\\n",
       "\t4 & 5586 & 15 & 11 &  856 & 1635 & 1\\\\\n",
       "\t5 &  371 & 14 &  9 &  463 &  976 & 2\\\\\n",
       "\t6 &  942 & 14 &  9 &  523 &  425 & 2\\\\\n",
       "\\end{tabular}\n"
      ],
      "text/markdown": [
       "\n",
       "A data.frame: 6 × 6\n",
       "\n",
       "| <!--/--> | id &lt;int&gt; | X1 &lt;dbl&gt; | X2 &lt;dbl&gt; | Y1 &lt;int&gt; | Y2 &lt;int&gt; | domainvalue &lt;int&gt; |\n",
       "|---|---|---|---|---|---|---|\n",
       "| 1 | 6621 | 15 |  8 |  773 |   67 | 1 |\n",
       "| 2 | 2701 | 15 |  9 | 1023 |   97 | 3 |\n",
       "| 3 |  351 | 15 | 12 | 1070 | 1726 | 2 |\n",
       "| 4 | 5586 | 15 | 11 |  856 | 1635 | 1 |\n",
       "| 5 |  371 | 14 |  9 |  463 |  976 | 2 |\n",
       "| 6 |  942 | 14 |  9 |  523 |  425 | 2 |\n",
       "\n"
      ],
      "text/plain": [
       "  id   X1 X2 Y1   Y2   domainvalue\n",
       "1 6621 15  8  773   67 1          \n",
       "2 2701 15  9 1023   97 3          \n",
       "3  351 15 12 1070 1726 2          \n",
       "4 5586 15 11  856 1635 1          \n",
       "5  371 14  9  463  976 2          \n",
       "6  942 14  9  523  425 2          "
      ]
     },
     "metadata": {},
     "output_type": "display_data"
    }
   ],
   "source": [
    "frame1 <- buildFrameDF(df = swissmun,\n",
    "                           id = \"COM\",\n",
    "                           X = c(\"POPTOT.cat\",\"HApoly.cat\"),\n",
    "                           Y = c(\"Airbat\",\"Surfacesbois\"),\n",
    "                           domainvalue = \"REG\")\n",
    "head(frame1)"
   ]
  },
  {
   "cell_type": "markdown",
   "id": "f431f4bc-ec4d-4542-8a60-a1b9a039f37e",
   "metadata": {},
   "source": [
    "### Strata\n",
    "  \n",
    "This dataframe is not explicitly required, as it is automatically produced from the *frame* dataframe by the *optimStrata* function. Notwithstanding, it is worthwhile to produce it in order to analyse the initial stratification of the frame, and what could be the associated sample size without optimization.\n",
    "The function *buildStrataDF* is the one to produce the *strata* dataframe:\n"
   ]
  },
  {
   "cell_type": "code",
   "execution_count": 7,
   "id": "0bed8723-4d53-45d8-aa90-90645fa17639",
   "metadata": {},
   "outputs": [
    {
     "name": "stdout",
     "output_type": "stream",
     "text": [
      "\n",
      "Computations are being done on population data\n",
      "\n",
      "Number of strata:  350\n",
      "... of which with only one unit:  130"
     ]
    },
    {
     "data": {
      "text/html": [
       "<table class=\"dataframe\">\n",
       "<caption>A data.frame: 6 × 11</caption>\n",
       "<thead>\n",
       "\t<tr><th></th><th scope=col>STRATO</th><th scope=col>N</th><th scope=col>M1</th><th scope=col>M2</th><th scope=col>S1</th><th scope=col>S2</th><th scope=col>COST</th><th scope=col>CENS</th><th scope=col>DOM1</th><th scope=col>X1</th><th scope=col>X2</th></tr>\n",
       "\t<tr><th></th><th scope=col>&lt;chr&gt;</th><th scope=col>&lt;dbl&gt;</th><th scope=col>&lt;dbl&gt;</th><th scope=col>&lt;dbl&gt;</th><th scope=col>&lt;dbl&gt;</th><th scope=col>&lt;dbl&gt;</th><th scope=col>&lt;dbl&gt;</th><th scope=col>&lt;dbl&gt;</th><th scope=col>&lt;dbl&gt;</th><th scope=col>&lt;dbl&gt;</th><th scope=col>&lt;dbl&gt;</th></tr>\n",
       "</thead>\n",
       "<tbody>\n",
       "\t<tr><th scope=row>1*1</th><td>1*1 </td><td>64</td><td> 5.359375</td><td>  34.07812</td><td> 2.846968</td><td> 24.54161</td><td>1</td><td>0</td><td>1</td><td>1</td><td> 1</td></tr>\n",
       "\t<tr><th scope=row>1*10</th><td>1*10</td><td> 3</td><td>17.333333</td><td> 858.66667</td><td>13.299958</td><td>264.73928</td><td>1</td><td>0</td><td>1</td><td>1</td><td>10</td></tr>\n",
       "\t<tr><th scope=row>1*11</th><td>1*11</td><td> 3</td><td> 9.666667</td><td> 842.00000</td><td> 1.699673</td><td>349.82567</td><td>1</td><td>0</td><td>1</td><td>1</td><td>11</td></tr>\n",
       "\t<tr><th scope=row>1*12</th><td>1*12</td><td> 1</td><td> 9.000000</td><td>1100.00000</td><td> 0.000000</td><td>  0.00000</td><td>1</td><td>0</td><td>1</td><td>1</td><td>12</td></tr>\n",
       "\t<tr><th scope=row>1*13</th><td>1*13</td><td> 5</td><td>12.200000</td><td>1085.40000</td><td> 3.187475</td><td>537.57924</td><td>1</td><td>0</td><td>1</td><td>1</td><td>13</td></tr>\n",
       "\t<tr><th scope=row>1*15</th><td>1*15</td><td> 1</td><td>10.000000</td><td> 387.00000</td><td> 0.000000</td><td>  0.00000</td><td>1</td><td>0</td><td>1</td><td>1</td><td>15</td></tr>\n",
       "</tbody>\n",
       "</table>\n"
      ],
      "text/latex": [
       "A data.frame: 6 × 11\n",
       "\\begin{tabular}{r|lllllllllll}\n",
       "  & STRATO & N & M1 & M2 & S1 & S2 & COST & CENS & DOM1 & X1 & X2\\\\\n",
       "  & <chr> & <dbl> & <dbl> & <dbl> & <dbl> & <dbl> & <dbl> & <dbl> & <dbl> & <dbl> & <dbl>\\\\\n",
       "\\hline\n",
       "\t1*1 & 1*1  & 64 &  5.359375 &   34.07812 &  2.846968 &  24.54161 & 1 & 0 & 1 & 1 &  1\\\\\n",
       "\t1*10 & 1*10 &  3 & 17.333333 &  858.66667 & 13.299958 & 264.73928 & 1 & 0 & 1 & 1 & 10\\\\\n",
       "\t1*11 & 1*11 &  3 &  9.666667 &  842.00000 &  1.699673 & 349.82567 & 1 & 0 & 1 & 1 & 11\\\\\n",
       "\t1*12 & 1*12 &  1 &  9.000000 & 1100.00000 &  0.000000 &   0.00000 & 1 & 0 & 1 & 1 & 12\\\\\n",
       "\t1*13 & 1*13 &  5 & 12.200000 & 1085.40000 &  3.187475 & 537.57924 & 1 & 0 & 1 & 1 & 13\\\\\n",
       "\t1*15 & 1*15 &  1 & 10.000000 &  387.00000 &  0.000000 &   0.00000 & 1 & 0 & 1 & 1 & 15\\\\\n",
       "\\end{tabular}\n"
      ],
      "text/markdown": [
       "\n",
       "A data.frame: 6 × 11\n",
       "\n",
       "| <!--/--> | STRATO &lt;chr&gt; | N &lt;dbl&gt; | M1 &lt;dbl&gt; | M2 &lt;dbl&gt; | S1 &lt;dbl&gt; | S2 &lt;dbl&gt; | COST &lt;dbl&gt; | CENS &lt;dbl&gt; | DOM1 &lt;dbl&gt; | X1 &lt;dbl&gt; | X2 &lt;dbl&gt; |\n",
       "|---|---|---|---|---|---|---|---|---|---|---|---|\n",
       "| 1*1 | 1*1  | 64 |  5.359375 |   34.07812 |  2.846968 |  24.54161 | 1 | 0 | 1 | 1 |  1 |\n",
       "| 1*10 | 1*10 |  3 | 17.333333 |  858.66667 | 13.299958 | 264.73928 | 1 | 0 | 1 | 1 | 10 |\n",
       "| 1*11 | 1*11 |  3 |  9.666667 |  842.00000 |  1.699673 | 349.82567 | 1 | 0 | 1 | 1 | 11 |\n",
       "| 1*12 | 1*12 |  1 |  9.000000 | 1100.00000 |  0.000000 |   0.00000 | 1 | 0 | 1 | 1 | 12 |\n",
       "| 1*13 | 1*13 |  5 | 12.200000 | 1085.40000 |  3.187475 | 537.57924 | 1 | 0 | 1 | 1 | 13 |\n",
       "| 1*15 | 1*15 |  1 | 10.000000 |  387.00000 |  0.000000 |   0.00000 | 1 | 0 | 1 | 1 | 15 |\n",
       "\n"
      ],
      "text/plain": [
       "     STRATO N  M1        M2         S1        S2        COST CENS DOM1 X1 X2\n",
       "1*1  1*1    64  5.359375   34.07812  2.846968  24.54161 1    0    1    1   1\n",
       "1*10 1*10    3 17.333333  858.66667 13.299958 264.73928 1    0    1    1  10\n",
       "1*11 1*11    3  9.666667  842.00000  1.699673 349.82567 1    0    1    1  11\n",
       "1*12 1*12    1  9.000000 1100.00000  0.000000   0.00000 1    0    1    1  12\n",
       "1*13 1*13    5 12.200000 1085.40000  3.187475 537.57924 1    0    1    1  13\n",
       "1*15 1*15    1 10.000000  387.00000  0.000000   0.00000 1    0    1    1  15"
      ]
     },
     "metadata": {},
     "output_type": "display_data"
    }
   ],
   "source": [
    "strata1 <- buildStrataDF(frame1, progress=F)\n",
    "head(strata1)"
   ]
  },
  {
   "cell_type": "markdown",
   "id": "c41a149f-379b-4f98-b638-6693acd04c67",
   "metadata": {},
   "source": [
    "Each row in this dataframe report information related to a given stratum (obtained by cross-classifying each unit with the values of the X variables) regarding:\n",
    "\n",
    "*\tthe identifier of the stratum (named 'strato'), concatenation of the values of the X variables;\n",
    "*\tthe values of the m auxiliary variables (named from X1 to Xm) corresponding to those in the frame;\n",
    "*\tthe total number of units in the population (named 'N');\n",
    "*\ta flag (named 'cens') indicating if the stratum is to be censused (=1) or sampled (=0);\n",
    "*\ta variable indicating the cost of interviewing per unit in the stratum (named 'cost');\n",
    "*\tfor each target variable y, its mean and standard deviation, named respectively 'Mi' and 'Si');\n",
    "*\tthe value of the domain of interest to which the stratum belongs ('DOM1').\n",
    "\n",
    "### Precision constraints\n",
    "\n",
    "The *errors* dataframe contains the accuracy constraints that are set on target estimates. \n",
    "This means to define a maximum coefficient of variation for each target variable and for each domain value. \n",
    "Each row of this frame is related to accuracy constraints in a particular subdomain of interest, identified by the *domainvalue* value.\n",
    "In our case, we have chosen to define the following constraints:\n",
    "\n"
   ]
  },
  {
   "cell_type": "code",
   "execution_count": 8,
   "id": "213ba810-c014-4e6d-9227-575b0c149c26",
   "metadata": {},
   "outputs": [
    {
     "data": {
      "text/html": [
       "<table class=\"dataframe\">\n",
       "<caption>A data.frame: 3 × 4</caption>\n",
       "<thead>\n",
       "\t<tr><th scope=col>DOM</th><th scope=col>CV1</th><th scope=col>CV2</th><th scope=col>domainvalue</th></tr>\n",
       "\t<tr><th scope=col>&lt;chr&gt;</th><th scope=col>&lt;dbl&gt;</th><th scope=col>&lt;dbl&gt;</th><th scope=col>&lt;int&gt;</th></tr>\n",
       "</thead>\n",
       "<tbody>\n",
       "\t<tr><td>DOM1</td><td>0.1</td><td>0.1</td><td>1</td></tr>\n",
       "\t<tr><td>DOM1</td><td>0.1</td><td>0.1</td><td>2</td></tr>\n",
       "\t<tr><td>DOM1</td><td>0.1</td><td>0.1</td><td>3</td></tr>\n",
       "</tbody>\n",
       "</table>\n"
      ],
      "text/latex": [
       "A data.frame: 3 × 4\n",
       "\\begin{tabular}{llll}\n",
       " DOM & CV1 & CV2 & domainvalue\\\\\n",
       " <chr> & <dbl> & <dbl> & <int>\\\\\n",
       "\\hline\n",
       "\t DOM1 & 0.1 & 0.1 & 1\\\\\n",
       "\t DOM1 & 0.1 & 0.1 & 2\\\\\n",
       "\t DOM1 & 0.1 & 0.1 & 3\\\\\n",
       "\\end{tabular}\n"
      ],
      "text/markdown": [
       "\n",
       "A data.frame: 3 × 4\n",
       "\n",
       "| DOM &lt;chr&gt; | CV1 &lt;dbl&gt; | CV2 &lt;dbl&gt; | domainvalue &lt;int&gt; |\n",
       "|---|---|---|---|\n",
       "| DOM1 | 0.1 | 0.1 | 1 |\n",
       "| DOM1 | 0.1 | 0.1 | 2 |\n",
       "| DOM1 | 0.1 | 0.1 | 3 |\n",
       "\n"
      ],
      "text/plain": [
       "  DOM  CV1 CV2 domainvalue\n",
       "1 DOM1 0.1 0.1 1          \n",
       "2 DOM1 0.1 0.1 2          \n",
       "3 DOM1 0.1 0.1 3          "
      ]
     },
     "metadata": {},
     "output_type": "display_data"
    }
   ],
   "source": [
    "ndom <- length(unique(swissmun$REG))\n",
    "cv <- as.data.frame(list(DOM=rep(\"DOM1\",ndom),\n",
    "                         CV1=rep(0.10,ndom),\n",
    "                         CV2=rep(0.10,ndom),\n",
    "                         domainvalue=c(1:ndom) ))\n",
    "cv"
   ]
  },
  {
   "cell_type": "markdown",
   "id": "5a20563b-5f7b-422a-86a3-726f17a22923",
   "metadata": {},
   "source": [
    "This example reports accuracy constraints (maximum CV allowable equal to 10%) on variables Y1 and Y2 that are the same for all the 3 different subdomains \n",
    "(Swiss regions) of domain level DOM1. Of course we can differentiate the precision constraints region by region. \n",
    "It is important to underline that the values of 'domainvalue' are the same than those in the *frame* dataframe, and correspond \n",
    "to the values of variable 'DOM1' in the strata dataframe.\n",
    "\n",
    "We check that the dataframes that we have defined so far are correct:"
   ]
  },
  {
   "cell_type": "code",
   "execution_count": 9,
   "id": "07b00ae3-c365-48c7-a103-4c8e7c62085b",
   "metadata": {},
   "outputs": [
    {
     "name": "stdout",
     "output_type": "stream",
     "text": [
      "\n",
      "Input data have been checked and are compliant with requirements\n"
     ]
    }
   ],
   "source": [
    "checkInput(errors = checkInput(errors = cv, \n",
    "                               strata = strata1, \n",
    "                               sampframe = frame1))"
   ]
  },
  {
   "cell_type": "markdown",
   "id": "f2a42754-3959-41a8-9456-7ed28d154bf5",
   "metadata": {},
   "source": [
    "For instance, this function controls that the number of auxiliary variables is the same in the frame and in the strata dataframes; that the number of target variables indicated in the frame dataframe is the same than the number of means and standard deviations in the strata dataframe, and the same than the number of coefficient of variations indicated in the errors dataframe.\n",
    "\n",
    "So far so good. Now we want to determine the total sample size, and related allocation, under the given strata, using the function *bethel* \n"
   ]
  },
  {
   "cell_type": "code",
   "execution_count": 10,
   "id": "15114cfe-e09e-49bd-a131-cc7dcb0e4311",
   "metadata": {},
   "outputs": [
    {
     "data": {
      "text/html": [
       "570"
      ],
      "text/latex": [
       "570"
      ],
      "text/markdown": [
       "570"
      ],
      "text/plain": [
       "[1] 570"
      ]
     },
     "metadata": {},
     "output_type": "display_data"
    }
   ],
   "source": [
    "allocation <- bethel(strata1,cv[1,])\n",
    "sum(allocation)"
   ]
  },
  {
   "cell_type": "markdown",
   "id": "9c17b2d5-4666-408f-8754-0d35d5be436f",
   "metadata": {},
   "source": [
    "This is the total sample size (570) required to satisfy precision constraints under the current stratification, before the optimization.\n",
    "\n",
    "## Optimization \n",
    "\n",
    "The function *optimStrata* is the one performing the optimization step. Actually, this function is a 'wrapper' that calls three different optimization functions: \n",
    "\n",
    "1. optimizeStrata (method = *atomic*, if stratification variables are categorical, or reduced to categorical); \n",
    "2. optimizeStrata2 (method = *continuous*, if stratification variables are continuous); \n",
    "3. optimizeStrataSpatial (method = *spatial*, if stratification variables are continuous and there is spatial correlation among units in a geo-coded sampling frame).\n",
    "\n",
    "For continuity reasons, these functions are still available to be used standalone, and in some situations it may be useful to use them by a direct call (see related help for details).\n",
    "\n",
    "Here we report the most important parameters related to the three methods (for the others see the help):\n",
    "\n",
    "| Parameter     |  Description   |\n",
    "| ------------- |:-------------------------------------------------------------------------|\n",
    "| *framesamp*   | The name of the dataframe containing the information related to the |\n",
    "|               |   sampling frame. |\n",
    "| *framecens*   | The name of the dataframe containing the units to be selected in any case. |\n",
    "|               |   It has same structure than \"framesamp\" dataframe. |\n",
    "| *nStrata*     | The number of final optimized strata to be obtained. |\n",
    "| *model*       | In case the Y variables are not directly observed, but are estimated by |\n",
    "|               |   means of other explicative variables, in order to compute the anticipated |\n",
    "|               |   variance, information on models are given by a dataframe \"model\" with as |\n",
    "|               |   many rows as the target variables. Default is NULL. |\n",
    "| *errors*      | The dataframe containing the precision levels expressed in | \n",
    "|               |   terms of maximum allowable coefficient of variation on a given estimate. |\n",
    "| *minnumstr*   | Minimum number of units that must be allocated in each stratum |\n",
    "|               |   (default is 2). |\n",
    "| *iter*        | Maximum number of iterations (= generations) of the genetic algorithm | \n",
    "|               |   (default is 50). |\n",
    "| *pops*        | The dimension of each generations in terms of individuals (default is 20). |\n",
    "| *suggestions* | Optional parameter for genetic algorithm that indicates a suggested solution | \n",
    "|               |   to be introduced in the initial population. The most convenient is the |\n",
    "|               |   one found by the function \"KmeanSolution\" (default is NULL). | \n",
    "\n",
    "\n",
    "### Method 'atomic'\n",
    "\n",
    "As a first run we execute the optimization step using the method *atomic* (required as the stratification variables are of the categorical type). \n"
   ]
  },
  {
   "cell_type": "code",
   "execution_count": 11,
   "id": "57817674-f477-407d-aaec-af0a88599d72",
   "metadata": {},
   "outputs": [
    {
     "name": "stdout",
     "output_type": "stream",
     "text": [
      "\n",
      "Input data have been checked and are compliant with requirements\n",
      "\n",
      "Computations are being done on population data\n",
      "\n",
      "Number of strata:  350\n",
      "... of which with only one unit:  130\n",
      " *** Starting parallel optimization for  3  domains using  3  cores\n"
     ]
    },
    {
     "data": {
      "image/png": "[encoded data removed]",
      "text/plain": [
       "Plot with title \"Domain # 1  - Sample cost 119.79\""
      ]
     },
     "metadata": {
      "image/png": {
       "height": 420,
       "width": 420
      }
     },
     "output_type": "display_data"
    },
    {
     "data": {
      "image/png": "[encoded data removed]",
      "text/plain": [
       "Plot with title \"Domain # 2  - Sample cost 126.32\""
      ]
     },
     "metadata": {
      "image/png": {
       "height": 420,
       "width": 420
      }
     },
     "output_type": "display_data"
    },
    {
     "name": "stdout",
     "output_type": "stream",
     "text": [
      "\n",
      " *** Sample size :  292\n",
      " *** Number of strata :  29\n",
      "---------------------------"
     ]
    },
    {
     "data": {
      "image/png": "[encoded data removed]",
      "text/plain": [
       "Plot with title \"Domain # 3  - Sample cost 48.52\""
      ]
     },
     "metadata": {
      "image/png": {
       "height": 420,
       "width": 420
      }
     },
     "output_type": "display_data"
    }
   ],
   "source": [
    "set.seed(1234)\n",
    "solution1 <- optimStrata(method = \"atomic\",\n",
    "                        errors = cv, \n",
    "                        nStrata = rep(10,ndom),\n",
    "                        framesamp = frame1,\n",
    "                        iter = 50,\n",
    "                        pops = 10)"
   ]
  },
  {
   "cell_type": "markdown",
   "id": "1b16cb95-8ec4-4b2b-b11b-ffe17351540a",
   "metadata": {},
   "source": [
    "The execution of *optimStrata* produces the solution of 3 different optimization problems, one for each domain.\n",
    "The graphs illustrate the convergence of the solution to the final one starting from the initial one (i.e. the one related to the atomic strata). Along the x-axis are reported the executed iterations, from 1 to the maximum, while on the y-axis are reported the size of the sample required to satisfy precision constraints. The upper (red) line represent the average sample size in each iteration, while the lower (black) line represents the best solution found until the i-th iteration.\n",
    "\n",
    "The total sample size is:\n"
   ]
  },
  {
   "cell_type": "code",
   "execution_count": 47,
   "id": "5241eed6-c01c-4f07-8520-bc4e9126c035",
   "metadata": {},
   "outputs": [
    {
     "data": {
      "text/html": [
       "295"
      ],
      "text/latex": [
       "295"
      ],
      "text/markdown": [
       "295"
      ],
      "text/plain": [
       "[1] 295"
      ]
     },
     "metadata": {},
     "output_type": "display_data"
    }
   ],
   "source": [
    "round(sum(solution1$aggr_strata$SOLUZ))"
   ]
  },
  {
   "cell_type": "markdown",
   "id": "93155d66-fc8b-4441-8fc5-3c7fda2edbf7",
   "metadata": {},
   "source": [
    "We can calculate (analytically) the expected CVs by executing the function:"
   ]
  },
  {
   "cell_type": "code",
   "execution_count": 48,
   "id": "261372ee-7732-40a7-bd41-cdb2af22f200",
   "metadata": {},
   "outputs": [
    {
     "data": {
      "text/html": [
       "<table class=\"dataframe\">\n",
       "<caption>A matrix: 3 × 2 of type dbl</caption>\n",
       "<thead>\n",
       "\t<tr><th></th><th scope=col>cv(Y1)</th><th scope=col>cv(Y2)</th></tr>\n",
       "</thead>\n",
       "<tbody>\n",
       "\t<tr><th scope=row>DOM1</th><td>0.100</td><td>0.1</td></tr>\n",
       "\t<tr><th scope=row>DOM2</th><td>0.100</td><td>0.1</td></tr>\n",
       "\t<tr><th scope=row>DOM3</th><td>0.099</td><td>0.1</td></tr>\n",
       "</tbody>\n",
       "</table>\n"
      ],
      "text/latex": [
       "A matrix: 3 × 2 of type dbl\n",
       "\\begin{tabular}{r|ll}\n",
       "  & cv(Y1) & cv(Y2)\\\\\n",
       "\\hline\n",
       "\tDOM1 & 0.100 & 0.1\\\\\n",
       "\tDOM2 & 0.100 & 0.1\\\\\n",
       "\tDOM3 & 0.099 & 0.1\\\\\n",
       "\\end{tabular}\n"
      ],
      "text/markdown": [
       "\n",
       "A matrix: 3 × 2 of type dbl\n",
       "\n",
       "| <!--/--> | cv(Y1) | cv(Y2) |\n",
       "|---|---|---|\n",
       "| DOM1 | 0.100 | 0.1 |\n",
       "| DOM2 | 0.100 | 0.1 |\n",
       "| DOM3 | 0.099 | 0.1 |\n",
       "\n"
      ],
      "text/plain": [
       "     cv(Y1) cv(Y2)\n",
       "DOM1 0.100  0.1   \n",
       "DOM2 0.100  0.1   \n",
       "DOM3 0.099  0.1   "
      ]
     },
     "metadata": {},
     "output_type": "display_data"
    }
   ],
   "source": [
    "expected_CV(solution1$aggr_strata)"
   ]
  },
  {
   "cell_type": "markdown",
   "id": "249a06c2-13b5-4877-8814-4495f97103f1",
   "metadata": {},
   "source": [
    "The obtained total size of the sample required to satisfy precision constraint is much lower than the one obtained with the simple application of the Bethel algorithm to the initial atomic stratification, but maybe not yet satisfactory. \n",
    "\n",
    "In order to explore other solutions we may want that each unit in the sampling frame be considered as an atomic stratum, and let to the optimization step to aggregate them on the basis of the values of the Y variables. \n",
    "In any case, as we have to indicate at least one X variable, we can use to this purpose a simple progressive number:\n"
   ]
  },
  {
   "cell_type": "code",
   "execution_count": 49,
   "id": "a19518e7-3c0f-4a19-b6a3-793a8d89215a",
   "metadata": {},
   "outputs": [
    {
     "data": {
      "text/html": [
       "<table class=\"dataframe\">\n",
       "<caption>A data.frame: 6 × 5</caption>\n",
       "<thead>\n",
       "\t<tr><th></th><th scope=col>id</th><th scope=col>X1</th><th scope=col>Y1</th><th scope=col>Y2</th><th scope=col>domainvalue</th></tr>\n",
       "\t<tr><th></th><th scope=col>&lt;int&gt;</th><th scope=col>&lt;int&gt;</th><th scope=col>&lt;int&gt;</th><th scope=col>&lt;int&gt;</th><th scope=col>&lt;int&gt;</th></tr>\n",
       "</thead>\n",
       "<tbody>\n",
       "\t<tr><th scope=row>1</th><td>6621</td><td>1</td><td> 773</td><td>  67</td><td>1</td></tr>\n",
       "\t<tr><th scope=row>2</th><td>2701</td><td>2</td><td>1023</td><td>  97</td><td>3</td></tr>\n",
       "\t<tr><th scope=row>3</th><td> 351</td><td>3</td><td>1070</td><td>1726</td><td>2</td></tr>\n",
       "\t<tr><th scope=row>4</th><td>5586</td><td>4</td><td> 856</td><td>1635</td><td>1</td></tr>\n",
       "\t<tr><th scope=row>5</th><td> 371</td><td>5</td><td> 463</td><td> 976</td><td>2</td></tr>\n",
       "\t<tr><th scope=row>6</th><td> 942</td><td>6</td><td> 523</td><td> 425</td><td>2</td></tr>\n",
       "</tbody>\n",
       "</table>\n"
      ],
      "text/latex": [
       "A data.frame: 6 × 5\n",
       "\\begin{tabular}{r|lllll}\n",
       "  & id & X1 & Y1 & Y2 & domainvalue\\\\\n",
       "  & <int> & <int> & <int> & <int> & <int>\\\\\n",
       "\\hline\n",
       "\t1 & 6621 & 1 &  773 &   67 & 1\\\\\n",
       "\t2 & 2701 & 2 & 1023 &   97 & 3\\\\\n",
       "\t3 &  351 & 3 & 1070 & 1726 & 2\\\\\n",
       "\t4 & 5586 & 4 &  856 & 1635 & 1\\\\\n",
       "\t5 &  371 & 5 &  463 &  976 & 2\\\\\n",
       "\t6 &  942 & 6 &  523 &  425 & 2\\\\\n",
       "\\end{tabular}\n"
      ],
      "text/markdown": [
       "\n",
       "A data.frame: 6 × 5\n",
       "\n",
       "| <!--/--> | id &lt;int&gt; | X1 &lt;int&gt; | Y1 &lt;int&gt; | Y2 &lt;int&gt; | domainvalue &lt;int&gt; |\n",
       "|---|---|---|---|---|---|\n",
       "| 1 | 6621 | 1 |  773 |   67 | 1 |\n",
       "| 2 | 2701 | 2 | 1023 |   97 | 3 |\n",
       "| 3 |  351 | 3 | 1070 | 1726 | 2 |\n",
       "| 4 | 5586 | 4 |  856 | 1635 | 1 |\n",
       "| 5 |  371 | 5 |  463 |  976 | 2 |\n",
       "| 6 |  942 | 6 |  523 |  425 | 2 |\n",
       "\n"
      ],
      "text/plain": [
       "  id   X1 Y1   Y2   domainvalue\n",
       "1 6621 1   773   67 1          \n",
       "2 2701 2  1023   97 3          \n",
       "3  351 3  1070 1726 2          \n",
       "4 5586 4   856 1635 1          \n",
       "5  371 5   463  976 2          \n",
       "6  942 6   523  425 2          "
      ]
     },
     "metadata": {},
     "output_type": "display_data"
    }
   ],
   "source": [
    "swissmun$progr <- c(1:nrow(swissmun))\n",
    "frame2 <- buildFrameDF(df = swissmun,\n",
    "                       id = \"COM\",\n",
    "                       X = \"progr\",\n",
    "                       Y = c(\"Airbat\",\"Surfacesbois\"),\n",
    "                       domainvalue = \"REG\")\n",
    "head(frame2)"
   ]
  },
  {
   "cell_type": "markdown",
   "id": "028f8785-f15d-44ee-8eb5-e9780c55afee",
   "metadata": {},
   "source": [
    "We can use this approach because the number of units in the frame is small: it would not be possible to consider each unit as a stratum in case of real population registers or even with business registers.\n",
    "\n",
    "Even so, the processing of the 1,823 strata may be slow. \n",
    "\n",
    "In order to speed up the convergence towards the optimal solution, an initial one can be given as a \"suggestion\" to 'optimizeStrata' function. The function *KmeansSolution* produces this initial solution by clustering atomic strata considering the values of the means of all the target variables Y. \n",
    "For any given number of clusters, the correspondent aggregation of atomic strata is considered as input to the function *bethel*. The number of clusters for which the value of the sample size necessary to fulfil precision constraints is the minimum one, is retained as the optimal one.\n",
    "Also, the optimal number of clusters is determined inside each domain. It is possible to indicate a maximum number of aggregated strata to be obtained by using the parameter *maxcluster*:\n"
   ]
  },
  {
   "cell_type": "code",
   "execution_count": 50,
   "id": "1fd221d8-45d9-4754-b321-4fab4b58c22e",
   "metadata": {},
   "outputs": [
    {
     "name": "stdout",
     "output_type": "stream",
     "text": [
      "\n",
      "Computations are being done on population data\n",
      "\n",
      "Number of strata:  1823\n",
      "... of which with only one unit:  1823"
     ]
    },
    {
     "data": {
      "image/png": "[encoded data removed]",
      "text/plain": [
       "Plot with title \"kmeans clustering in domain 1\""
      ]
     },
     "metadata": {
      "image/png": {
       "height": 420,
       "width": 420
      }
     },
     "output_type": "display_data"
    },
    {
     "data": {
      "image/png": "[encoded data removed]",
      "text/plain": [
       "Plot with title \"kmeans clustering in domain 2\""
      ]
     },
     "metadata": {
      "image/png": {
       "height": 420,
       "width": 420
      }
     },
     "output_type": "display_data"
    },
    {
     "name": "stdout",
     "output_type": "stream",
     "text": [
      "\n",
      "-------------------\n",
      "  Kmeans solution \n",
      "-------------------\n",
      " *** Domain:  1  ***\n",
      " Number of strata:  10\n",
      " Sample size     :  61\n",
      " *** Domain:  2  ***\n",
      " Number of strata:  10\n",
      " Sample size     :  81\n",
      " *** Domain:  3  ***\n",
      " Number of strata:  10\n",
      " Sample size     :  37\n",
      "-------------------\n",
      " Total size:  179\n",
      "-------------------"
     ]
    },
    {
     "data": {
      "image/png": "[encoded data removed]",
      "text/plain": [
       "Plot with title \"kmeans clustering in domain 3\""
      ]
     },
     "metadata": {
      "image/png": {
       "height": 420,
       "width": 420
      }
     },
     "output_type": "display_data"
    }
   ],
   "source": [
    "strata2 <- buildStrataDF(frame2, progress=F)\n",
    "initial_solution2 <- KmeansSolution(strata = strata2,\n",
    "                                    errors = cv,\n",
    "                                    maxclusters = 10)  "
   ]
  },
  {
   "cell_type": "markdown",
   "id": "774fd8b2-e0ef-4ae2-b50c-518b07befbbd",
   "metadata": {},
   "source": [
    "The overall solution is obtained by concatenating optimal clusters obtained in domains. The result is a dataframe with two columns: the first indicates the clusters, the second the domains. On the basis of these, we can calculate the most convenient number of final strata for each domain:\n"
   ]
  },
  {
   "cell_type": "code",
   "execution_count": 51,
   "id": "8fe39802-e70a-43d4-aac1-a6f23bf2f72f",
   "metadata": {},
   "outputs": [
    {
     "data": {
      "text/html": [
       "<style>\n",
       ".dl-inline {width: auto; margin:0; padding: 0}\n",
       ".dl-inline>dt, .dl-inline>dd {float: none; width: auto; display: inline-block}\n",
       ".dl-inline>dt::after {content: \":\\0020\"; padding-right: .5ex}\n",
       ".dl-inline>dt:not(:first-of-type) {padding-left: .5ex}\n",
       "</style><dl class=dl-inline><dt>1</dt><dd>10</dd><dt>2</dt><dd>10</dd><dt>3</dt><dd>10</dd></dl>\n"
      ],
      "text/latex": [
       "\\begin{description*}\n",
       "\\item[1] 10\n",
       "\\item[2] 10\n",
       "\\item[3] 10\n",
       "\\end{description*}\n"
      ],
      "text/markdown": [
       "1\n",
       ":   102\n",
       ":   103\n",
       ":   10\n",
       "\n"
      ],
      "text/plain": [
       " 1  2  3 \n",
       "10 10 10 "
      ]
     },
     "metadata": {},
     "output_type": "display_data"
    }
   ],
   "source": [
    "nstrata2 <- tapply(initial_solution2$suggestions,\n",
    "                 initial_solution2$domainvalue,\n",
    "                 FUN=function(x) length(unique(x)))\n",
    "nstrata2"
   ]
  },
  {
   "cell_type": "markdown",
   "id": "6ce73adc-c0c6-4827-a41a-8c5a634e58b7",
   "metadata": {},
   "source": [
    "and we can supply both the *initial_solution* and the number of strata *nstrata* as inputs to the optimization step:\n"
   ]
  },
  {
   "cell_type": "code",
   "execution_count": 52,
   "id": "3c7415d9-9411-45a7-97b9-94a0989ddb38",
   "metadata": {},
   "outputs": [
    {
     "name": "stdout",
     "output_type": "stream",
     "text": [
      "\n",
      "Input data have been checked and are compliant with requirements\n",
      "\n",
      "Computations are being done on population data\n",
      "\n",
      "Number of strata:  1823\n",
      "... of which with only one unit:  1823\n",
      " *** Starting parallel optimization for  3  domains using  3  cores\n"
     ]
    },
    {
     "data": {
      "image/png": "[encoded data removed]",
      "text/plain": [
       "Plot with title \"Domain # 1  - Sample cost 55.39\""
      ]
     },
     "metadata": {
      "image/png": {
       "height": 420,
       "width": 420
      }
     },
     "output_type": "display_data"
    },
    {
     "data": {
      "image/png": "[encoded data removed]",
      "text/plain": [
       "Plot with title \"Domain # 2  - Sample cost 70.81\""
      ]
     },
     "metadata": {
      "image/png": {
       "height": 420,
       "width": 420
      }
     },
     "output_type": "display_data"
    },
    {
     "name": "stdout",
     "output_type": "stream",
     "text": [
      "\n",
      " *** Sample size :  161\n",
      " *** Number of strata :  30\n",
      "---------------------------"
     ]
    },
    {
     "data": {
      "image/png": "[encoded data removed]",
      "text/plain": [
       "Plot with title \"Domain # 3  - Sample cost 33.07\""
      ]
     },
     "metadata": {
      "image/png": {
       "height": 420,
       "width": 420
      }
     },
     "output_type": "display_data"
    }
   ],
   "source": [
    "set.seed(1234)\n",
    "solution2 <- optimStrata(method = \"atomic\",\n",
    "                        errors = cv, \n",
    "                        framesamp = frame2,\n",
    "                        iter = 50,\n",
    "                        pops = 10,\n",
    "                        nStrata = nstrata2,\n",
    "                        suggestions = initial_solution2)"
   ]
  },
  {
   "cell_type": "markdown",
   "id": "22a11de9-1627-4af8-ba6f-9b6b2b822e27",
   "metadata": {},
   "source": [
    "Notice that the obtained solution in this run in terms of sample size is significantly better than in the previous one:\n"
   ]
  },
  {
   "cell_type": "code",
   "execution_count": 56,
   "id": "1a6465a8-6395-462e-ab34-a988f7725567",
   "metadata": {
    "tags": []
   },
   "outputs": [
    {
     "data": {
      "text/html": [
       "159"
      ],
      "text/latex": [
       "159"
      ],
      "text/markdown": [
       "159"
      ],
      "text/plain": [
       "[1] 159"
      ]
     },
     "metadata": {},
     "output_type": "display_data"
    }
   ],
   "source": [
    "round(sum(solution2$aggr_strata$SOLUZ))"
   ]
  },
  {
   "cell_type": "markdown",
   "id": "39779144-740b-428d-906c-b9b0bbbe2ce9",
   "metadata": {},
   "source": [
    "and the expected CVs:"
   ]
  },
  {
   "cell_type": "code",
   "execution_count": 54,
   "id": "69a0bcfe-9626-4b8f-b54a-a257ed35c538",
   "metadata": {},
   "outputs": [
    {
     "data": {
      "text/html": [
       "<table class=\"dataframe\">\n",
       "<caption>A matrix: 3 × 2 of type dbl</caption>\n",
       "<thead>\n",
       "\t<tr><th></th><th scope=col>cv(Y1)</th><th scope=col>cv(Y2)</th></tr>\n",
       "</thead>\n",
       "<tbody>\n",
       "\t<tr><th scope=row>DOM1</th><td>0.100</td><td>0.027</td></tr>\n",
       "\t<tr><th scope=row>DOM2</th><td>0.099</td><td>0.053</td></tr>\n",
       "\t<tr><th scope=row>DOM3</th><td>0.099</td><td>0.021</td></tr>\n",
       "</tbody>\n",
       "</table>\n"
      ],
      "text/latex": [
       "A matrix: 3 × 2 of type dbl\n",
       "\\begin{tabular}{r|ll}\n",
       "  & cv(Y1) & cv(Y2)\\\\\n",
       "\\hline\n",
       "\tDOM1 & 0.100 & 0.027\\\\\n",
       "\tDOM2 & 0.099 & 0.053\\\\\n",
       "\tDOM3 & 0.099 & 0.021\\\\\n",
       "\\end{tabular}\n"
      ],
      "text/markdown": [
       "\n",
       "A matrix: 3 × 2 of type dbl\n",
       "\n",
       "| <!--/--> | cv(Y1) | cv(Y2) |\n",
       "|---|---|---|\n",
       "| DOM1 | 0.100 | 0.027 |\n",
       "| DOM2 | 0.099 | 0.053 |\n",
       "| DOM3 | 0.099 | 0.021 |\n",
       "\n"
      ],
      "text/plain": [
       "     cv(Y1) cv(Y2)\n",
       "DOM1 0.100  0.027 \n",
       "DOM2 0.099  0.053 \n",
       "DOM3 0.099  0.021 "
      ]
     },
     "metadata": {},
     "output_type": "display_data"
    }
   ],
   "source": [
    "outstrata2 <- solution2$aggr_strata\n",
    "expected_CV(outstrata2)"
   ]
  },
  {
   "cell_type": "markdown",
   "id": "8742276f-018b-4868-a2eb-dd609283601d",
   "metadata": {},
   "source": [
    "### Method 'continuous'\n",
    "\n",
    "The last thing to do is to test also the *continuous* method. \n",
    "\n",
    "First, we have to redefine the frame dataframe in this way:\n"
   ]
  },
  {
   "cell_type": "code",
   "execution_count": 18,
   "id": "0e4730c6-f117-49d7-a37c-980233b501b9",
   "metadata": {},
   "outputs": [
    {
     "data": {
      "text/html": [
       "<table class=\"dataframe\">\n",
       "<caption>A data.frame: 6 × 6</caption>\n",
       "<thead>\n",
       "\t<tr><th></th><th scope=col>id</th><th scope=col>X1</th><th scope=col>X2</th><th scope=col>Y1</th><th scope=col>Y2</th><th scope=col>domainvalue</th></tr>\n",
       "\t<tr><th></th><th scope=col>&lt;int&gt;</th><th scope=col>&lt;int&gt;</th><th scope=col>&lt;int&gt;</th><th scope=col>&lt;int&gt;</th><th scope=col>&lt;int&gt;</th><th scope=col>&lt;int&gt;</th></tr>\n",
       "</thead>\n",
       "<tbody>\n",
       "\t<tr><th scope=row>1</th><td>6621</td><td>177964</td><td>1593</td><td> 773</td><td>  67</td><td>1</td></tr>\n",
       "\t<tr><th scope=row>2</th><td>2701</td><td>166558</td><td>2391</td><td>1023</td><td>  97</td><td>3</td></tr>\n",
       "\t<tr><th scope=row>3</th><td> 351</td><td>128634</td><td>5162</td><td>1070</td><td>1726</td><td>2</td></tr>\n",
       "\t<tr><th scope=row>4</th><td>5586</td><td>124914</td><td>4136</td><td> 856</td><td>1635</td><td>1</td></tr>\n",
       "\t<tr><th scope=row>5</th><td> 371</td><td> 48655</td><td>2123</td><td> 463</td><td> 976</td><td>2</td></tr>\n",
       "\t<tr><th scope=row>6</th><td> 942</td><td> 40377</td><td>2158</td><td> 523</td><td> 425</td><td>2</td></tr>\n",
       "</tbody>\n",
       "</table>\n"
      ],
      "text/latex": [
       "A data.frame: 6 × 6\n",
       "\\begin{tabular}{r|llllll}\n",
       "  & id & X1 & X2 & Y1 & Y2 & domainvalue\\\\\n",
       "  & <int> & <int> & <int> & <int> & <int> & <int>\\\\\n",
       "\\hline\n",
       "\t1 & 6621 & 177964 & 1593 &  773 &   67 & 1\\\\\n",
       "\t2 & 2701 & 166558 & 2391 & 1023 &   97 & 3\\\\\n",
       "\t3 &  351 & 128634 & 5162 & 1070 & 1726 & 2\\\\\n",
       "\t4 & 5586 & 124914 & 4136 &  856 & 1635 & 1\\\\\n",
       "\t5 &  371 &  48655 & 2123 &  463 &  976 & 2\\\\\n",
       "\t6 &  942 &  40377 & 2158 &  523 &  425 & 2\\\\\n",
       "\\end{tabular}\n"
      ],
      "text/markdown": [
       "\n",
       "A data.frame: 6 × 6\n",
       "\n",
       "| <!--/--> | id &lt;int&gt; | X1 &lt;int&gt; | X2 &lt;int&gt; | Y1 &lt;int&gt; | Y2 &lt;int&gt; | domainvalue &lt;int&gt; |\n",
       "|---|---|---|---|---|---|---|\n",
       "| 1 | 6621 | 177964 | 1593 |  773 |   67 | 1 |\n",
       "| 2 | 2701 | 166558 | 2391 | 1023 |   97 | 3 |\n",
       "| 3 |  351 | 128634 | 5162 | 1070 | 1726 | 2 |\n",
       "| 4 | 5586 | 124914 | 4136 |  856 | 1635 | 1 |\n",
       "| 5 |  371 |  48655 | 2123 |  463 |  976 | 2 |\n",
       "| 6 |  942 |  40377 | 2158 |  523 |  425 | 2 |\n",
       "\n"
      ],
      "text/plain": [
       "  id   X1     X2   Y1   Y2   domainvalue\n",
       "1 6621 177964 1593  773   67 1          \n",
       "2 2701 166558 2391 1023   97 3          \n",
       "3  351 128634 5162 1070 1726 2          \n",
       "4 5586 124914 4136  856 1635 1          \n",
       "5  371  48655 2123  463  976 2          \n",
       "6  942  40377 2158  523  425 2          "
      ]
     },
     "metadata": {},
     "output_type": "display_data"
    }
   ],
   "source": [
    "frame3 <- buildFrameDF(df = swissmun,\n",
    "                           id = \"COM\",\n",
    "                           X = c(\"POPTOT\",\"HApoly\"),\n",
    "                           Y = c(\"Airbat\",\"Surfacesbois\"),\n",
    "                           domainvalue = \"REG\")\n",
    "\n",
    "head(frame3)"
   ]
  },
  {
   "cell_type": "markdown",
   "id": "e9fbe64c-e4b0-4413-aee7-653bad8f6673",
   "metadata": {},
   "source": [
    "Also in this case we want to produce an initial solution:"
   ]
  },
  {
   "cell_type": "code",
   "execution_count": 19,
   "id": "e686af06-9625-4ebf-8122-55d12f097974",
   "metadata": {},
   "outputs": [
    {
     "name": "stdout",
     "output_type": "stream",
     "text": [
      "\n",
      "Strata  4\n",
      "Sample size  147\n",
      "Strata  5\n",
      "Sample size  140\n",
      "Strata  7\n",
      "Sample size  80\n",
      "Strata  8\n",
      "Sample size  75\n",
      "Strata  9\n",
      "Sample size  63\n",
      "Strata  10\n",
      "Sample size  61"
     ]
    },
    {
     "data": {
      "image/png": "[encoded data removed]",
      "text/plain": [
       "Plot with title \"kmeans clustering in domain 1\""
      ]
     },
     "metadata": {
      "image/png": {
       "height": 420,
       "width": 420
      }
     },
     "output_type": "display_data"
    },
    {
     "name": "stdout",
     "output_type": "stream",
     "text": [
      "\n",
      "Strata  3\n",
      "Sample size  92\n",
      "Strata  4\n",
      "Sample size  88\n",
      "Strata  5\n",
      "Sample size  81\n",
      "Strata  6\n",
      "Sample size  57\n",
      "Strata  8\n",
      "Sample size  45\n",
      "Strata  9\n",
      "Sample size  32"
     ]
    },
    {
     "data": {
      "image/png": "[encoded data removed]",
      "text/plain": [
       "Plot with title \"kmeans clustering in domain 3\""
      ]
     },
     "metadata": {
      "image/png": {
       "height": 420,
       "width": 420
      }
     },
     "output_type": "display_data"
    },
    {
     "name": "stdout",
     "output_type": "stream",
     "text": [
      "\n",
      "Strata  3\n",
      "Sample size  122\n",
      "Strata  4\n",
      "Sample size  110\n",
      "Strata  6\n",
      "Sample size  103\n",
      "Strata  7\n",
      "Sample size  100\n",
      "Strata  9\n",
      "Sample size  83\n",
      "Strata  10\n",
      "Sample size  81\n",
      "-----------------\n",
      " Kmeans solution \n",
      "-----------------\n",
      " *** Domain:  1  ***\n",
      " Number of strata:  10\n",
      " Sample size     :  61\n",
      " *** Domain:  2  ***\n",
      " Number of strata:  10\n",
      " Sample size     :  81\n",
      " *** Domain:  3  ***\n",
      " Number of strata:  9\n",
      " Sample size     :  32"
     ]
    },
    {
     "data": {
      "text/html": [
       "<style>\n",
       ".dl-inline {width: auto; margin:0; padding: 0}\n",
       ".dl-inline>dt, .dl-inline>dd {float: none; width: auto; display: inline-block}\n",
       ".dl-inline>dt::after {content: \":\\0020\"; padding-right: .5ex}\n",
       ".dl-inline>dt:not(:first-of-type) {padding-left: .5ex}\n",
       "</style><dl class=dl-inline><dt>1</dt><dd>10</dd><dt>2</dt><dd>10</dd><dt>3</dt><dd>9</dd></dl>\n"
      ],
      "text/latex": [
       "\\begin{description*}\n",
       "\\item[1] 10\n",
       "\\item[2] 10\n",
       "\\item[3] 9\n",
       "\\end{description*}\n"
      ],
      "text/markdown": [
       "1\n",
       ":   102\n",
       ":   103\n",
       ":   9\n",
       "\n"
      ],
      "text/plain": [
       " 1  2  3 \n",
       "10 10  9 "
      ]
     },
     "metadata": {},
     "output_type": "display_data"
    },
    {
     "data": {
      "image/png": "[encoded data removed]",
      "text/plain": [
       "Plot with title \"kmeans clustering in domain 2\""
      ]
     },
     "metadata": {
      "image/png": {
       "height": 420,
       "width": 420
      }
     },
     "output_type": "display_data"
    }
   ],
   "source": [
    "set.seed(1234)\n",
    "init_sol3 <- KmeansSolution2(frame=frame3,\n",
    "                             errors=cv,\n",
    "                             maxclusters = 10)  \n",
    "nstrata3 <- tapply(init_sol3$suggestions,\n",
    "                 init_sol3$domainvalue,\n",
    "                 FUN=function(x) length(unique(x)))\n",
    "nstrata3"
   ]
  },
  {
   "cell_type": "code",
   "execution_count": 20,
   "id": "647e4df7-4751-4f6e-a150-3e94a38d8320",
   "metadata": {},
   "outputs": [
    {
     "name": "stdout",
     "output_type": "stream",
     "text": [
      "\n",
      "Computations are being done on population data\n",
      "\n",
      "Number of strata:  29\n",
      "... of which with only one unit:  3"
     ]
    },
    {
     "name": "stderr",
     "output_type": "stream",
     "text": [
      "Warning message in out$Lower_X1[out$Domain == j] <- x1_min:\n",
      "\"il numero di elementi da sostituire non è un multiplo della lunghezza di sostituzione\"\n",
      "Warning message in out$Upper_X1[out$Domain == j] <- x1_max:\n",
      "\"il numero di elementi da sostituire non è un multiplo della lunghezza di sostituzione\"\n",
      "Warning message in out$Lower_X2[out$Domain == j] <- x2_min:\n",
      "\"il numero di elementi da sostituire non è un multiplo della lunghezza di sostituzione\"\n",
      "Warning message in out$Upper_X2[out$Domain == j] <- x2_max:\n",
      "\"il numero di elementi da sostituire non è un multiplo della lunghezza di sostituzione\"\n"
     ]
    }
   ],
   "source": [
    "initial_solution3 <- prepareSuggestion(init_sol3,frame3,nstrata3)"
   ]
  },
  {
   "cell_type": "markdown",
   "id": "1a755396-f3c0-4d49-a41d-b9e339493b72",
   "metadata": {},
   "source": [
    "Note that this time we call a different function (*KmeansSolution2*) that requires, instead of the *strata* dataframe, directly the *frame* dataframe. Moreover, we need an intermediate step to prepare the suggestion for the optimization, that is the execution of the function *prepareSuggestion*.\n",
    "\n",
    "We are now able to perform the optimization step with the *continuous* method:"
   ]
  },
  {
   "cell_type": "code",
   "execution_count": 21,
   "id": "654c5f98-d4a8-4de3-967c-d71b67d46454",
   "metadata": {},
   "outputs": [
    {
     "name": "stdout",
     "output_type": "stream",
     "text": [
      "\n",
      "Input data have been checked and are compliant with requirements\n",
      "\n",
      " *** Starting parallel optimization for  3  domains using  3  cores\n"
     ]
    },
    {
     "data": {
      "image/png": "[encoded data removed]",
      "text/plain": [
       "Plot with title \"Domain # 1  - Sample cost 49.18\""
      ]
     },
     "metadata": {
      "image/png": {
       "height": 420,
       "width": 420
      }
     },
     "output_type": "display_data"
    },
    {
     "data": {
      "image/png": "[encoded data removed]",
      "text/plain": [
       "Plot with title \"Domain # 2  - Sample cost 31.08\""
      ]
     },
     "metadata": {
      "image/png": {
       "height": 420,
       "width": 420
      }
     },
     "output_type": "display_data"
    },
    {
     "name": "stdout",
     "output_type": "stream",
     "text": [
      "\n",
      " *** Sample size :  96\n",
      " *** Number of strata :  22\n",
      "---------------------------"
     ]
    },
    {
     "data": {
      "image/png": "[encoded data removed]",
      "text/plain": [
       "Plot with title \"Domain # 3  - Sample cost 17.73\""
      ]
     },
     "metadata": {
      "image/png": {
       "height": 420,
       "width": 420
      }
     },
     "output_type": "display_data"
    }
   ],
   "source": [
    "set.seed(1234)\n",
    "solution3 <- optimStrata(method = \"continuous\",\n",
    "                        errors = cv, \n",
    "                        framesamp = frame3,\n",
    "                        iter = 50,\n",
    "                        pops = 10,\n",
    "                        nStrata = nstrata3,\n",
    "                        suggestions = initial_solution3)"
   ]
  },
  {
   "cell_type": "markdown",
   "id": "21e08504-1e23-4727-bd38-078567f3c00e",
   "metadata": {},
   "source": [
    "This solution requires a total sample size that is by far the best among those we produced:\n"
   ]
  },
  {
   "cell_type": "code",
   "execution_count": 59,
   "id": "3a02566a-aa43-4e2d-bee4-7f948ccaf67a",
   "metadata": {},
   "outputs": [
    {
     "data": {
      "text/html": [
       "98"
      ],
      "text/latex": [
       "98"
      ],
      "text/markdown": [
       "98"
      ],
      "text/plain": [
       "[1] 98"
      ]
     },
     "metadata": {},
     "output_type": "display_data"
    }
   ],
   "source": [
    "round(sum(solution3$aggr_strata$SOLUZ))"
   ]
  },
  {
   "cell_type": "markdown",
   "id": "f78f5bf0-250e-43f1-b043-3fcacbd16344",
   "metadata": {},
   "source": [
    "so we decide to select this one."
   ]
  },
  {
   "cell_type": "markdown",
   "id": "f34b35b9-3255-41f2-8c21-26ee5d894cd3",
   "metadata": {},
   "source": [
    "# Analysis of the obtained solution\n",
    "\n",
    "## Strata structure\n",
    "\n",
    "The results of the execution are contained in the list 'solution', composed by three elements:\n",
    "\n",
    "1.\t*solution\\$indices*: the vector of the indices that indicates to what aggregated stratum each atomic stratum belongs (if the *atomic* method has been used) or to which aggregated stratum each unit in the frame belongs (in case the *continuous* method has been used);\n",
    "2.  *solution\\$framenew*: the initial frame updated with the indication, for each unit, of the optimal strata to which each unit belongs;\n",
    "3.\t*solution\\$aggr_strata*: the dataframe containing information on the optimized strata. \n",
    "\n",
    "When stratification variables are of the continuous type, and the *continuous* (or *spatial*) method has been used, it is possible to have detailed information on the structure of the optimized strata, for instance by using the function *summaryStrata*:\n"
   ]
  },
  {
   "cell_type": "markdown",
   "id": "aad54052-4bad-41c9-8d9b-c36e314c972f",
   "metadata": {},
   "source": [
    "# Analysis of the obtained solution\n",
    "\n",
    "## Strata structure\n",
    "\n",
    "The results of the execution are contained in the list 'solution', composed by three elements:\n",
    "\n",
    "1.\t*solution\\$indices*: the vector of the indices that indicates to what aggregated stratum each atomic stratum belongs (if the *atomic* method has been used) or to which aggregated stratum each unit in the frame belongs (in case the *continuous* method has been used);\n",
    "2.  solution\\$*framenew*: the initial frame updated with the indication, for each unit, of the optimal strata to which each unit belongs;\n",
    "3.\t*solution\\$aggr_strata*: the dataframe containing information on the optimized strata. \n",
    "\n",
    "When stratification variables are of the continuous type, and the *continuous* (or *spatial*) method has been used, it is possible to have detailed information on the structure of the optimized strata, for instance by using the function *summaryStrata*:\n"
   ]
  },
  {
   "cell_type": "code",
   "execution_count": 60,
   "id": "18ca95e3-65ef-44a9-8475-0b6ee6dc8699",
   "metadata": {},
   "outputs": [
    {
     "data": {
      "text/html": [
       "<table class=\"dataframe\">\n",
       "<caption>A data.frame: 6 × 9</caption>\n",
       "<thead>\n",
       "\t<tr><th></th><th scope=col>Domain</th><th scope=col>Stratum</th><th scope=col>Population</th><th scope=col>Allocation</th><th scope=col>SamplingRate</th><th scope=col>Lower_X1</th><th scope=col>Upper_X1</th><th scope=col>Lower_X2</th><th scope=col>Upper_X2</th></tr>\n",
       "\t<tr><th></th><th scope=col>&lt;dbl&gt;</th><th scope=col>&lt;fct&gt;</th><th scope=col>&lt;dbl&gt;</th><th scope=col>&lt;dbl&gt;</th><th scope=col>&lt;dbl&gt;</th><th scope=col>&lt;int&gt;</th><th scope=col>&lt;int&gt;</th><th scope=col>&lt;int&gt;</th><th scope=col>&lt;int&gt;</th></tr>\n",
       "</thead>\n",
       "<tbody>\n",
       "\t<tr><th scope=row>1</th><td>1</td><td>1</td><td>339</td><td>11</td><td>0.032029</td><td> 27</td><td> 2221</td><td>  32</td><td>  856</td></tr>\n",
       "\t<tr><th scope=row>2</th><td>1</td><td>2</td><td>116</td><td>11</td><td>0.094683</td><td> 65</td><td> 2497</td><td> 187</td><td> 3255</td></tr>\n",
       "\t<tr><th scope=row>3</th><td>1</td><td>3</td><td> 77</td><td>11</td><td>0.140255</td><td>356</td><td>27171</td><td> 129</td><td> 3384</td></tr>\n",
       "\t<tr><th scope=row>4</th><td>1</td><td>4</td><td> 19</td><td> 3</td><td>0.165545</td><td>130</td><td>29559</td><td> 765</td><td> 4855</td></tr>\n",
       "\t<tr><th scope=row>5</th><td>1</td><td>5</td><td> 15</td><td> 4</td><td>0.236287</td><td>155</td><td> 6257</td><td>5162</td><td> 7093</td></tr>\n",
       "\t<tr><th scope=row>6</th><td>1</td><td>6</td><td> 16</td><td> 6</td><td>0.362668</td><td> 78</td><td> 7515</td><td>8460</td><td>11907</td></tr>\n",
       "</tbody>\n",
       "</table>\n"
      ],
      "text/latex": [
       "A data.frame: 6 × 9\n",
       "\\begin{tabular}{r|lllllllll}\n",
       "  & Domain & Stratum & Population & Allocation & SamplingRate & Lower\\_X1 & Upper\\_X1 & Lower\\_X2 & Upper\\_X2\\\\\n",
       "  & <dbl> & <fct> & <dbl> & <dbl> & <dbl> & <int> & <int> & <int> & <int>\\\\\n",
       "\\hline\n",
       "\t1 & 1 & 1 & 339 & 11 & 0.032029 &  27 &  2221 &   32 &   856\\\\\n",
       "\t2 & 1 & 2 & 116 & 11 & 0.094683 &  65 &  2497 &  187 &  3255\\\\\n",
       "\t3 & 1 & 3 &  77 & 11 & 0.140255 & 356 & 27171 &  129 &  3384\\\\\n",
       "\t4 & 1 & 4 &  19 &  3 & 0.165545 & 130 & 29559 &  765 &  4855\\\\\n",
       "\t5 & 1 & 5 &  15 &  4 & 0.236287 & 155 &  6257 & 5162 &  7093\\\\\n",
       "\t6 & 1 & 6 &  16 &  6 & 0.362668 &  78 &  7515 & 8460 & 11907\\\\\n",
       "\\end{tabular}\n"
      ],
      "text/markdown": [
       "\n",
       "A data.frame: 6 × 9\n",
       "\n",
       "| <!--/--> | Domain &lt;dbl&gt; | Stratum &lt;fct&gt; | Population &lt;dbl&gt; | Allocation &lt;dbl&gt; | SamplingRate &lt;dbl&gt; | Lower_X1 &lt;int&gt; | Upper_X1 &lt;int&gt; | Lower_X2 &lt;int&gt; | Upper_X2 &lt;int&gt; |\n",
       "|---|---|---|---|---|---|---|---|---|---|\n",
       "| 1 | 1 | 1 | 339 | 11 | 0.032029 |  27 |  2221 |   32 |   856 |\n",
       "| 2 | 1 | 2 | 116 | 11 | 0.094683 |  65 |  2497 |  187 |  3255 |\n",
       "| 3 | 1 | 3 |  77 | 11 | 0.140255 | 356 | 27171 |  129 |  3384 |\n",
       "| 4 | 1 | 4 |  19 |  3 | 0.165545 | 130 | 29559 |  765 |  4855 |\n",
       "| 5 | 1 | 5 |  15 |  4 | 0.236287 | 155 |  6257 | 5162 |  7093 |\n",
       "| 6 | 1 | 6 |  16 |  6 | 0.362668 |  78 |  7515 | 8460 | 11907 |\n",
       "\n"
      ],
      "text/plain": [
       "  Domain Stratum Population Allocation SamplingRate Lower_X1 Upper_X1 Lower_X2\n",
       "1 1      1       339        11         0.032029      27       2221      32    \n",
       "2 1      2       116        11         0.094683      65       2497     187    \n",
       "3 1      3        77        11         0.140255     356      27171     129    \n",
       "4 1      4        19         3         0.165545     130      29559     765    \n",
       "5 1      5        15         4         0.236287     155       6257    5162    \n",
       "6 1      6        16         6         0.362668      78       7515    8460    \n",
       "  Upper_X2\n",
       "1   856   \n",
       "2  3255   \n",
       "3  3384   \n",
       "4  4855   \n",
       "5  7093   \n",
       "6 11907   "
      ]
     },
     "metadata": {},
     "output_type": "display_data"
    }
   ],
   "source": [
    "strataStructure <- summaryStrata(solution3$framenew,\n",
    "                                 solution3$aggr_strata,\n",
    "                                 progress=FALSE)\n",
    "head(strataStructure)"
   ]
  },
  {
   "cell_type": "markdown",
   "id": "764d66fa-2030-4463-8f8e-cc0137c2659a",
   "metadata": {},
   "source": [
    "For each otpimized stratum, total number of units together with allocations and sampling rates are reported. Also ranges of the stratification variables are listed, in order to characterize the strata.\n",
    "\n",
    "If the stratification variables are in a limited number, as in our case, it is possible to use the *plotStrata2d* function, that allows also to visualize strata by choosing couples of variables and one domain per time:\n"
   ]
  },
  {
   "cell_type": "code",
   "execution_count": 61,
   "id": "48c3e877-5a10-4308-a8d1-be4f50a2589f",
   "metadata": {},
   "outputs": [
    {
     "data": {
      "text/html": [
       "<table class=\"dataframe\">\n",
       "<caption>A formattable: 7 × 6</caption>\n",
       "<thead>\n",
       "\t<tr><th scope=col>Stratum</th><th scope=col>Population</th><th scope=col>Allocation</th><th scope=col>SamplingRate</th><th scope=col>Bounds Total Population</th><th scope=col>Bounds Total Area</th></tr>\n",
       "\t<tr><th scope=col>&lt;fct&gt;</th><th scope=col>&lt;dbl&gt;</th><th scope=col>&lt;dbl&gt;</th><th scope=col>&lt;dbl&gt;</th><th scope=col>&lt;fct&gt;</th><th scope=col>&lt;fct&gt;</th></tr>\n",
       "</thead>\n",
       "<tbody>\n",
       "\t<tr><td>1</td><td>374</td><td> 4</td><td>0.01112502</td><td>30-1221    </td><td>34-565    </td></tr>\n",
       "\t<tr><td>2</td><td>395</td><td>13</td><td>0.03331057</td><td>67-5893    </td><td>168-1656  </td></tr>\n",
       "\t<tr><td>3</td><td> 80</td><td> 4</td><td>0.05609586</td><td>128-9609   </td><td>152-3369  </td></tr>\n",
       "\t<tr><td>4</td><td> 32</td><td> 3</td><td>0.10218925</td><td>624-16757  </td><td>421-5490  </td></tr>\n",
       "\t<tr><td>5</td><td> 24</td><td> 2</td><td>0.08333333</td><td>272-6914   </td><td>5521-17108</td></tr>\n",
       "\t<tr><td>6</td><td>  6</td><td> 2</td><td>0.33333333</td><td>32914-48655</td><td>930-5566  </td></tr>\n",
       "\t<tr><td>7</td><td>  2</td><td> 2</td><td>1.00000000</td><td>328-128634 </td><td>5162-20079</td></tr>\n",
       "</tbody>\n",
       "</table>\n"
      ],
      "text/latex": [
       "A formattable: 7 × 6\n",
       "\\begin{tabular}{llllll}\n",
       " Stratum & Population & Allocation & SamplingRate & Bounds Total Population & Bounds Total Area\\\\\n",
       " <fct> & <dbl> & <dbl> & <dbl> & <fct> & <fct>\\\\\n",
       "\\hline\n",
       "\t 1 & 374 &  4 & 0.01112502 & 30-1221     & 34-565    \\\\\n",
       "\t 2 & 395 & 13 & 0.03331057 & 67-5893     & 168-1656  \\\\\n",
       "\t 3 &  80 &  4 & 0.05609586 & 128-9609    & 152-3369  \\\\\n",
       "\t 4 &  32 &  3 & 0.10218925 & 624-16757   & 421-5490  \\\\\n",
       "\t 5 &  24 &  2 & 0.08333333 & 272-6914    & 5521-17108\\\\\n",
       "\t 6 &   6 &  2 & 0.33333333 & 32914-48655 & 930-5566  \\\\\n",
       "\t 7 &   2 &  2 & 1.00000000 & 328-128634  & 5162-20079\\\\\n",
       "\\end{tabular}\n"
      ],
      "text/markdown": [
       "\n",
       "A formattable: 7 × 6\n",
       "\n",
       "| Stratum &lt;fct&gt; | Population &lt;dbl&gt; | Allocation &lt;dbl&gt; | SamplingRate &lt;dbl&gt; | Bounds Total Population &lt;fct&gt; | Bounds Total Area &lt;fct&gt; |\n",
       "|---|---|---|---|---|---|\n",
       "| 1 | 374 |  4 | 0.01112502 | 30-1221     | 34-565     |\n",
       "| 2 | 395 | 13 | 0.03331057 | 67-5893     | 168-1656   |\n",
       "| 3 |  80 |  4 | 0.05609586 | 128-9609    | 152-3369   |\n",
       "| 4 |  32 |  3 | 0.10218925 | 624-16757   | 421-5490   |\n",
       "| 5 |  24 |  2 | 0.08333333 | 272-6914    | 5521-17108 |\n",
       "| 6 |   6 |  2 | 0.33333333 | 32914-48655 | 930-5566   |\n",
       "| 7 |   2 |  2 | 1.00000000 | 328-128634  | 5162-20079 |\n",
       "\n"
      ],
      "text/plain": [
       "  Stratum Population Allocation SamplingRate Bounds Total Population\n",
       "1 1       374         4         0.01112502   30-1221                \n",
       "2 2       395        13         0.03331057   67-5893                \n",
       "3 3        80         4         0.05609586   128-9609               \n",
       "4 4        32         3         0.10218925   624-16757              \n",
       "5 5        24         2         0.08333333   272-6914               \n",
       "6 6         6         2         0.33333333   32914-48655            \n",
       "7 7         2         2         1.00000000   328-128634             \n",
       "  Bounds Total Area\n",
       "1 34-565           \n",
       "2 168-1656         \n",
       "3 152-3369         \n",
       "4 421-5490         \n",
       "5 5521-17108       \n",
       "6 930-5566         \n",
       "7 5162-20079       "
      ]
     },
     "metadata": {},
     "output_type": "display_data"
    },
    {
     "data": {
      "image/png": "[encoded data removed]",
      "text/plain": [
       "Plot with title \"Strata boundaries in domain 2\""
      ]
     },
     "metadata": {
      "image/png": {
       "height": 420,
       "width": 420
      }
     },
     "output_type": "display_data"
    }
   ],
   "source": [
    "plotStrata2d(solution3$framenew, \n",
    "             solution3$aggr_strata,\n",
    "             domain = 2, \n",
    "             vars = c(\"X1\",\"X2\"),\n",
    "             labels = c(\"Total Population\",\"Total Area\"))"
   ]
  },
  {
   "cell_type": "markdown",
   "id": "4bf7d338-11b6-4f9d-92bf-b244cfc4f314",
   "metadata": {},
   "source": [
    "### Evaluation by simulation\n",
    "\n",
    "In order to be confident about the quality of the found solution, the function *evalSolution* allows to run a simulation, based on the selection of a desired number of samples from the frame to which the stratification, identified as the best, has been applied. The user can invoke this function also indicating the number of samples to be drawn:\n"
   ]
  },
  {
   "cell_type": "code",
   "execution_count": 62,
   "id": "669e56c3-cd51-48be-a61f-e6d819506c3e",
   "metadata": {},
   "outputs": [],
   "source": [
    "eval3 <- evalSolution(frame = solution3$framenew, \n",
    "                     outstrata = solution3$aggr_strata, \n",
    "                     nsampl = 200,\n",
    "                     progress = FALSE) "
   ]
  },
  {
   "cell_type": "markdown",
   "id": "b8b57c20-a356-4a42-8d6d-2f872f451135",
   "metadata": {},
   "source": [
    "For each drawn sample, the estimates related to the Y’s are calculated. Their mean and standard deviation are also computed, in order to produce the CV and relative bias related to each variable in every domain. \n"
   ]
  },
  {
   "cell_type": "code",
   "execution_count": 63,
   "id": "cad06089-0de5-463d-a80f-08a48602587e",
   "metadata": {},
   "outputs": [
    {
     "data": {
      "text/html": [
       "<table class=\"dataframe\">\n",
       "<caption>A data.frame: 3 × 3</caption>\n",
       "<thead>\n",
       "\t<tr><th scope=col>CV1</th><th scope=col>CV2</th><th scope=col>dom</th></tr>\n",
       "\t<tr><th scope=col>&lt;dbl&gt;</th><th scope=col>&lt;dbl&gt;</th><th scope=col>&lt;chr&gt;</th></tr>\n",
       "</thead>\n",
       "<tbody>\n",
       "\t<tr><td>0.1005</td><td>0.1044</td><td>DOM1</td></tr>\n",
       "\t<tr><td>0.1049</td><td>0.1009</td><td>DOM2</td></tr>\n",
       "\t<tr><td>0.1091</td><td>0.1114</td><td>DOM3</td></tr>\n",
       "</tbody>\n",
       "</table>\n"
      ],
      "text/latex": [
       "A data.frame: 3 × 3\n",
       "\\begin{tabular}{lll}\n",
       " CV1 & CV2 & dom\\\\\n",
       " <dbl> & <dbl> & <chr>\\\\\n",
       "\\hline\n",
       "\t 0.1005 & 0.1044 & DOM1\\\\\n",
       "\t 0.1049 & 0.1009 & DOM2\\\\\n",
       "\t 0.1091 & 0.1114 & DOM3\\\\\n",
       "\\end{tabular}\n"
      ],
      "text/markdown": [
       "\n",
       "A data.frame: 3 × 3\n",
       "\n",
       "| CV1 &lt;dbl&gt; | CV2 &lt;dbl&gt; | dom &lt;chr&gt; |\n",
       "|---|---|---|\n",
       "| 0.1005 | 0.1044 | DOM1 |\n",
       "| 0.1049 | 0.1009 | DOM2 |\n",
       "| 0.1091 | 0.1114 | DOM3 |\n",
       "\n"
      ],
      "text/plain": [
       "  CV1    CV2    dom \n",
       "1 0.1005 0.1044 DOM1\n",
       "2 0.1049 0.1009 DOM2\n",
       "3 0.1091 0.1114 DOM3"
      ]
     },
     "metadata": {},
     "output_type": "display_data"
    }
   ],
   "source": [
    "eval3$coeff_var"
   ]
  },
  {
   "cell_type": "code",
   "execution_count": 64,
   "id": "856d8924-6c1f-44c7-8d93-b5ae601555a4",
   "metadata": {},
   "outputs": [
    {
     "data": {
      "text/html": [
       "<table class=\"dataframe\">\n",
       "<caption>A data.frame: 3 × 3</caption>\n",
       "<thead>\n",
       "\t<tr><th></th><th scope=col>y1</th><th scope=col>y2</th><th scope=col>dom</th></tr>\n",
       "\t<tr><th></th><th scope=col>&lt;dbl&gt;</th><th scope=col>&lt;dbl&gt;</th><th scope=col>&lt;fct&gt;</th></tr>\n",
       "</thead>\n",
       "<tbody>\n",
       "\t<tr><th scope=row>1</th><td>-0.0029</td><td>0.0100</td><td>DOM1</td></tr>\n",
       "\t<tr><th scope=row>2</th><td>-0.0044</td><td>0.0068</td><td>DOM2</td></tr>\n",
       "\t<tr><th scope=row>3</th><td>-0.0073</td><td>0.0038</td><td>DOM3</td></tr>\n",
       "</tbody>\n",
       "</table>\n"
      ],
      "text/latex": [
       "A data.frame: 3 × 3\n",
       "\\begin{tabular}{r|lll}\n",
       "  & y1 & y2 & dom\\\\\n",
       "  & <dbl> & <dbl> & <fct>\\\\\n",
       "\\hline\n",
       "\t1 & -0.0029 & 0.0100 & DOM1\\\\\n",
       "\t2 & -0.0044 & 0.0068 & DOM2\\\\\n",
       "\t3 & -0.0073 & 0.0038 & DOM3\\\\\n",
       "\\end{tabular}\n"
      ],
      "text/markdown": [
       "\n",
       "A data.frame: 3 × 3\n",
       "\n",
       "| <!--/--> | y1 &lt;dbl&gt; | y2 &lt;dbl&gt; | dom &lt;fct&gt; |\n",
       "|---|---|---|---|\n",
       "| 1 | -0.0029 | 0.0100 | DOM1 |\n",
       "| 2 | -0.0044 | 0.0068 | DOM2 |\n",
       "| 3 | -0.0073 | 0.0038 | DOM3 |\n",
       "\n"
      ],
      "text/plain": [
       "  y1      y2     dom \n",
       "1 -0.0029 0.0100 DOM1\n",
       "2 -0.0044 0.0068 DOM2\n",
       "3 -0.0073 0.0038 DOM3"
      ]
     },
     "metadata": {},
     "output_type": "display_data"
    }
   ],
   "source": [
    "eval3$rel_bias"
   ]
  },
  {
   "cell_type": "markdown",
   "id": "0b1a8ca4-d8d7-4057-a41f-02a10b8efe32",
   "metadata": {},
   "source": [
    "It is also possible to analyse the sampling distribution of the estimates for each variable of interest in a selected domain:\n"
   ]
  },
  {
   "cell_type": "code",
   "execution_count": 65,
   "id": "aa822c6c-067f-49b7-ab7b-3891c46c31ee",
   "metadata": {},
   "outputs": [
    {
     "data": {
      "image/png": "[encoded data removed]",
      "text/plain": [
       "Plot with title \"Variable Y1 Domain 1\""
      ]
     },
     "metadata": {
      "image/png": {
       "height": 420,
       "width": 420
      }
     },
     "output_type": "display_data"
    }
   ],
   "source": [
    "dom = 1\n",
    "hist(eval3$est$Y1[eval3$est$dom == dom], col = \"grey\", border = \"white\",\n",
    "     xlab = expression(hat(Y)[1]),\n",
    "     freq = FALSE, \n",
    "     main = paste(\"Variable Y1 Domain \",dom,sep=\"\"))\n",
    "abline(v = mean(eval3$est$Y1[eval3$est$dom == dom]), col = \"blue\", lwd = 2)\n",
    "abline(v = mean(frame3$Y1[frame3$domainvalue==dom]), col = \"red\")\n",
    "legend(\"topright\", c(\"distribution mean\", \"true value\"),\n",
    "       lty = 1, col = c(\"blue\", \"red\"), box.col = NA, cex = 0.8)"
   ]
  },
  {
   "cell_type": "markdown",
   "id": "944534a5-6692-4fe0-8adb-e6c20dcdfe14",
   "metadata": {},
   "source": [
    "## Adjustment of the final sampling size\n",
    "\n",
    "\n",
    "After the optimization step, the final sample size is the result of the allocation of units in final strata. This allocation is such that the precision constraints are expected to be satisfied. Actually, three possible situations may occur:\n",
    "\n",
    "* the resulting sample size is acceptable;\n",
    "* the resulting sample size is too high, i.e. it is not affordable with respect to the available budget;\n",
    "* the resulting sample size is too low, the available budget permits to increase the number of units.\n",
    "\n",
    "In the first case, no action is required. In the second case, it is necessary to reduce the number of units, by equally  applying the same reduction rate in each stratum. In the third case, we proceed to increase the sample size by applying the same increase rate in each stratum. This increase/reduction process is iterative, as by applying the same rate we could find that in some strata there are not enough units to increase or to reduce. The function *adjustSize* permits to obtain the desired final sample size. \n",
    "\n",
    "Let us suppose that the final obtained sample size (106) is not affordable. We can reduce it by executing the following code:\n"
   ]
  },
  {
   "cell_type": "code",
   "execution_count": 66,
   "id": "d198e82f-ce8b-4c05-8dda-82f4a46f871c",
   "metadata": {},
   "outputs": [
    {
     "name": "stdout",
     "output_type": "stream",
     "text": [
      "\n",
      " 77\n",
      " 77\n",
      " Final adjusted size:  77"
     ]
    }
   ],
   "source": [
    "adjustedStrata <- adjustSize(size=75,strata=solution3$aggr_strata,cens=NULL)"
   ]
  },
  {
   "cell_type": "markdown",
   "id": "e11fcc95-f4a1-4b70-8e25-1966048c6dde",
   "metadata": {},
   "source": [
    "Instead, if we want to increase the size because the budget allows to do this, then this is the code:\n"
   ]
  },
  {
   "cell_type": "code",
   "execution_count": 67,
   "id": "5377dece-cedb-403a-94e8-c804202ab16e",
   "metadata": {},
   "outputs": [
    {
     "name": "stdout",
     "output_type": "stream",
     "text": [
      "\n",
      " 149\n",
      " 149\n",
      " Final adjusted size:  149"
     ]
    }
   ],
   "source": [
    "adjustedStrata <- adjustSize(size=150,strata=solution3$aggr_strata,cens=NULL)"
   ]
  },
  {
   "cell_type": "markdown",
   "id": "302dfc38-d0ce-4152-be7d-e6e5ee88e1c5",
   "metadata": {},
   "source": [
    "The difference between the desired sample size and the actual adjusted size depends on the number of strata in the optimized solution. Consider that the adjustment is performed in each stratum by taking into account the relative difference between the current sample size and the desired one: this produces an allocation that is expressed by a real number, that must be rounded, while taking into account the requirement of the minimum number of units in the strata (default is 2). The higher the number of strata, the higher the impact on the final adjusted sample size.\n",
    "\n",
    "Once increased (or reduced) the sample size we can check what are the new expected CVs. With the second adjustment, that produced a total sample size of 152, we obtain:\n"
   ]
  },
  {
   "cell_type": "code",
   "execution_count": 68,
   "id": "2d7acf6c-2883-4ae3-b1b5-ef47dc44eb6c",
   "metadata": {},
   "outputs": [
    {
     "data": {
      "text/html": [
       "<table class=\"dataframe\">\n",
       "<caption>A matrix: 3 × 2 of type dbl</caption>\n",
       "<thead>\n",
       "\t<tr><th></th><th scope=col>cv(Y1)</th><th scope=col>cv(Y2)</th></tr>\n",
       "</thead>\n",
       "<tbody>\n",
       "\t<tr><th scope=row>DOM1</th><td>0.075</td><td>0.076</td></tr>\n",
       "\t<tr><th scope=row>DOM2</th><td>0.079</td><td>0.080</td></tr>\n",
       "\t<tr><th scope=row>DOM3</th><td>0.079</td><td>0.078</td></tr>\n",
       "</tbody>\n",
       "</table>\n"
      ],
      "text/latex": [
       "A matrix: 3 × 2 of type dbl\n",
       "\\begin{tabular}{r|ll}\n",
       "  & cv(Y1) & cv(Y2)\\\\\n",
       "\\hline\n",
       "\tDOM1 & 0.075 & 0.076\\\\\n",
       "\tDOM2 & 0.079 & 0.080\\\\\n",
       "\tDOM3 & 0.079 & 0.078\\\\\n",
       "\\end{tabular}\n"
      ],
      "text/markdown": [
       "\n",
       "A matrix: 3 × 2 of type dbl\n",
       "\n",
       "| <!--/--> | cv(Y1) | cv(Y2) |\n",
       "|---|---|---|\n",
       "| DOM1 | 0.075 | 0.076 |\n",
       "| DOM2 | 0.079 | 0.080 |\n",
       "| DOM3 | 0.079 | 0.078 |\n",
       "\n"
      ],
      "text/plain": [
       "     cv(Y1) cv(Y2)\n",
       "DOM1 0.075  0.076 \n",
       "DOM2 0.079  0.080 \n",
       "DOM3 0.079  0.078 "
      ]
     },
     "metadata": {},
     "output_type": "display_data"
    }
   ],
   "source": [
    "expected_CV(adjustedStrata)"
   ]
  },
  {
   "cell_type": "markdown",
   "id": "e35354ae-c412-42de-8f87-c9e37fed1f45",
   "metadata": {},
   "source": [
    "that is, an important reduction of expected CVs.\n",
    "\n",
    "## Sample selection\n",
    "\n",
    "Once the optimal stratification has been obtained, using the function *selectSample* it is possible to select the sample from the optimized version of the frame, taking into account the optimal stratification and allocation:\n"
   ]
  },
  {
   "cell_type": "code",
   "execution_count": 36,
   "id": "a7c5a1bd-6da9-4f47-94a7-21cc9a9b7280",
   "metadata": {},
   "outputs": [
    {
     "name": "stdout",
     "output_type": "stream",
     "text": [
      "\n",
      "*** Sample has been drawn successfully ***\n",
      " 96  units have been selected from  22  strata\n",
      "\n",
      "==> There have been  2  take-all strata \n",
      "from which have been selected  3 units\n"
     ]
    }
   ],
   "source": [
    "framenew3 <- solution3$framenew\n",
    "outstrata3 <- solution3$aggr_strata\n",
    "sample <- selectSample(framenew3, \n",
    "                       outstrata3,\n",
    "                       writeFiles = TRUE)"
   ]
  },
  {
   "cell_type": "markdown",
   "id": "73a2dffb-25f4-4a15-b2af-d5eeb2ad4a64",
   "metadata": {},
   "source": [
    "When the option *writeFiles* is set to TRUE, it produces two .csv files:\n",
    "\n",
    "* *sample.csv* containing the units of the frame that have been selected, together with the weight that has been calculated for each one of them;\n",
    "* *sample.chk.csv* containing information on the selection: for each stratum, the number of units in the population, the planned sample, the number of selected units, the sum of their weights that must equalize the number of units in the population.\n",
    "\n",
    "The *selectSample* function operates by drawing a simple random sampling in each stratum.\n",
    "\n",
    "A variant of this function is *selectSampleSystematic*. The only difference is in the method used for selecting units in each strata, that is by executing the following steps:\n",
    "\n",
    "* a selection interval is determined by considering the inverse of the sampling rate in the stratum;\n",
    "a starting point is determined by selecting a value in this interval;\n",
    "* the selection proceeds by selecting as first unit the one corresponding to the above value, and then selecting all the units individuated by adding the selection interval.\n",
    "\n",
    "This selection method can be useful if associated to a particular ordering of the selection frame, where the ordering variable(s) can be considered as additional stratum variable(s). For instance, we could decide that it could be important to consider the *industrial area* (*Airind*) in municipalities when selecting units in strata. Here is the code:\n"
   ]
  },
  {
   "cell_type": "code",
   "execution_count": 37,
   "id": "a9be2b1d-6ff6-4ad8-b1a2-20224002bc8c",
   "metadata": {},
   "outputs": [
    {
     "name": "stdout",
     "output_type": "stream",
     "text": [
      "\n",
      "*** Sample has been drawn successfully ***\n",
      " 96  units have been selected from  22  strata\n",
      "\n",
      "==> There have been  2  take-all strata \n",
      "from which have been selected  3 units\n"
     ]
    }
   ],
   "source": [
    "# adding POPTOT to framenew\n",
    "data(\"swissmunicipalities\")\n",
    "framenew <- merge(solution3$framenew,\n",
    "                  swissmunicipalities[,c(\"COM\",\"Airind\")],\n",
    "                  by.x=c(\"ID\"),by.y=c(\"COM\"))\n",
    "# selection of sample with systematic method\n",
    "sample <- selectSampleSystematic(frame=framenew,\n",
    "                                 outstrata=solution3$aggr_strata,\n",
    "                                 sortvariable = c(\"Airind\"))"
   ]
  },
  {
   "cell_type": "markdown",
   "id": "ba9b1c28-8103-4bfa-81b2-4b86d38074af",
   "metadata": {},
   "source": [
    "## Handling 'take-all' strata\n",
    "\n",
    "As input to the optimization step, together with proper sampling strata, it is also possible to provide take-all strata. These strata will not be subject to optimization as the proper strata, but they will contribute to the determination of the best stratification, as their presence in a given domain will permit to satisfy precision constraint with a lower number of units belonging to proper sampling strata.\n",
    "\n",
    "In order to correctly execute the optimization and further steps, it is necessary to perform a pre-processing of the overall input. The first step to be executed consists in the bi-partition of units to be censused and of units to be sampled, in order to build two different frames. As an example, we want to be sure that all municipalities whose total population is higher than 10,000 will be always included in the sample. So, we partition the sampling frame in this way:\n"
   ]
  },
  {
   "cell_type": "code",
   "execution_count": 40,
   "id": "501ca00a-29ef-4f3f-93e6-9b51afb54896",
   "metadata": {},
   "outputs": [
    {
     "data": {
      "text/html": [
       "63"
      ],
      "text/latex": [
       "63"
      ],
      "text/markdown": [
       "63"
      ],
      "text/plain": [
       "[1] 63"
      ]
     },
     "metadata": {},
     "output_type": "display_data"
    },
    {
     "data": {
      "text/html": [
       "1760"
      ],
      "text/latex": [
       "1760"
      ],
      "text/markdown": [
       "1760"
      ],
      "text/plain": [
       "[1] 1760"
      ]
     },
     "metadata": {},
     "output_type": "display_data"
    }
   ],
   "source": [
    "#----Selection of units to be censused from the frame\n",
    "ind_framecens <- which(frame3$X1 > 10000)\n",
    "framecens <- frame3[ind_framecens,]\n",
    "nrow(framecens)\n",
    "#----Selection of units to be sampled from the frame\n",
    "# (complement to the previous)\n",
    "framesamp <- frame3[-ind_framecens,]\n",
    "nrow(framesamp)"
   ]
  },
  {
   "cell_type": "markdown",
   "id": "869ea128-c6e4-4cb3-b0f5-735cdd8a4bde",
   "metadata": {},
   "source": [
    "In this way, we have defined as to be censused all units with population greater than 10,000 (63). At the end of the process, the sample will contain all these units.\n",
    "\n",
    "We now run the optimization step by including the indication of to be censused units:\n"
   ]
  },
  {
   "cell_type": "code",
   "execution_count": 41,
   "id": "4e7bb70e-e750-4528-a3ac-6593e96f8add",
   "metadata": {},
   "outputs": [
    {
     "name": "stdout",
     "output_type": "stream",
     "text": [
      "\n",
      "Input data have been checked and are compliant with requirements\n",
      "\n",
      "Input data have been checked and are compliant with requirements\n",
      "\n",
      " *** Starting parallel optimization for  3  domains using  3  cores\n"
     ]
    },
    {
     "data": {
      "image/png": "[encoded data removed]",
      "text/plain": [
       "Plot with title \"Domain # 1  - Sample cost 57.75\""
      ]
     },
     "metadata": {
      "image/png": {
       "height": 420,
       "width": 420
      }
     },
     "output_type": "display_data"
    },
    {
     "data": {
      "image/png": "[encoded data removed]",
      "text/plain": [
       "Plot with title \"Domain # 2  - Sample cost 43.48\""
      ]
     },
     "metadata": {
      "image/png": {
       "height": 420,
       "width": 420
      }
     },
     "output_type": "display_data"
    },
    {
     "name": "stdout",
     "output_type": "stream",
     "text": [
      "\n",
      " *** Sample size :  69\n",
      " *** Number of strata :  28\n",
      "---------------------------"
     ]
    },
    {
     "data": {
      "image/png": "[encoded data removed]",
      "text/plain": [
       "Plot with title \"Domain # 3  - Sample cost 33.01\""
      ]
     },
     "metadata": {
      "image/png": {
       "height": 420,
       "width": 420
      }
     },
     "output_type": "display_data"
    }
   ],
   "source": [
    "set.seed(1234)\n",
    "solution4 <- optimStrata(method = \"continuous\",\n",
    "                        errors = cv, \n",
    "                        framesamp = framesamp,\n",
    "                        framecens = framecens,\n",
    "                        iter = 50,\n",
    "                        pops = 10,\n",
    "                        nStrata = c(10,10,10))"
   ]
  },
  {
   "cell_type": "code",
   "execution_count": 42,
   "id": "50b05367-2c50-4daf-bd3f-5f97d89a7d54",
   "metadata": {},
   "outputs": [
    {
     "data": {
      "text/html": [
       "134.237049661386"
      ],
      "text/latex": [
       "134.237049661386"
      ],
      "text/markdown": [
       "134.237049661386"
      ],
      "text/plain": [
       "[1] 134.237"
      ]
     },
     "metadata": {},
     "output_type": "display_data"
    },
    {
     "data": {
      "text/html": [
       "<table class=\"dataframe\">\n",
       "<caption>A matrix: 3 × 2 of type dbl</caption>\n",
       "<thead>\n",
       "\t<tr><th></th><th scope=col>cv(Y1)</th><th scope=col>cv(Y2)</th></tr>\n",
       "</thead>\n",
       "<tbody>\n",
       "\t<tr><th scope=row>DOM1</th><td>0.100</td><td>0.099</td></tr>\n",
       "\t<tr><th scope=row>DOM2</th><td>0.097</td><td>0.098</td></tr>\n",
       "\t<tr><th scope=row>DOM3</th><td>0.090</td><td>0.089</td></tr>\n",
       "</tbody>\n",
       "</table>\n"
      ],
      "text/latex": [
       "A matrix: 3 × 2 of type dbl\n",
       "\\begin{tabular}{r|ll}\n",
       "  & cv(Y1) & cv(Y2)\\\\\n",
       "\\hline\n",
       "\tDOM1 & 0.100 & 0.099\\\\\n",
       "\tDOM2 & 0.097 & 0.098\\\\\n",
       "\tDOM3 & 0.090 & 0.089\\\\\n",
       "\\end{tabular}\n"
      ],
      "text/markdown": [
       "\n",
       "A matrix: 3 × 2 of type dbl\n",
       "\n",
       "| <!--/--> | cv(Y1) | cv(Y2) |\n",
       "|---|---|---|\n",
       "| DOM1 | 0.100 | 0.099 |\n",
       "| DOM2 | 0.097 | 0.098 |\n",
       "| DOM3 | 0.090 | 0.089 |\n",
       "\n"
      ],
      "text/plain": [
       "     cv(Y1) cv(Y2)\n",
       "DOM1 0.100  0.099 \n",
       "DOM2 0.097  0.098 \n",
       "DOM3 0.090  0.089 "
      ]
     },
     "metadata": {},
     "output_type": "display_data"
    }
   ],
   "source": [
    "framenew4 <- solution4$framenew\n",
    "outstrata4 <- solution4$aggr_strata\n",
    "sum(outstrata4$SOLUZ)\n",
    "expected_CV(outstrata4)"
   ]
  },
  {
   "cell_type": "markdown",
   "id": "0e567bb5-5334-4770-9bf0-f11a5343d163",
   "metadata": {},
   "source": [
    "Once the optimized solution has been produced, we select the sample:\n"
   ]
  },
  {
   "cell_type": "code",
   "execution_count": 43,
   "id": "cc39b110-ef02-427d-bafb-33e0b5accfda",
   "metadata": {},
   "outputs": [
    {
     "name": "stdout",
     "output_type": "stream",
     "text": [
      "\n",
      "*** Sample has been drawn successfully ***\n",
      " 132  units have been selected from  31  strata\n",
      "\n",
      "==> There have been  5  take-all strata \n",
      "from which have been selected  65 units\n"
     ]
    }
   ],
   "source": [
    "sample <- selectSample(frame=framenew4,\n",
    "                       outstrata=outstrata4)"
   ]
  },
  {
   "cell_type": "markdown",
   "id": "39723f1a-32db-4da0-9140-7770712b5900",
   "metadata": {},
   "source": [
    "and we control that all take-all units are included in the sample:\n"
   ]
  },
  {
   "cell_type": "code",
   "execution_count": 44,
   "id": "4976e3c4-d9be-41ab-8e27-e28dd8dfe731",
   "metadata": {},
   "outputs": [
    {
     "data": {
      "text/html": [
       "63"
      ],
      "text/latex": [
       "63"
      ],
      "text/markdown": [
       "63"
      ],
      "text/plain": [
       "[1] 63"
      ]
     },
     "metadata": {},
     "output_type": "display_data"
    }
   ],
   "source": [
    "sum(framecens$id %in% sample$ID)"
   ]
  },
  {
   "cell_type": "markdown",
   "id": "32ffdc3a-f21f-4574-b1ed-2b94b8408122",
   "metadata": {},
   "source": [
    "# Appendix - Methodological approach\n",
    "\n",
    "In a stratified sampling design with one or more stages, a sample is selected from a frame containing the units of the population of interest, stratified according to the values of one or more auxiliary variables (X) available for all units in the population.\n",
    "\n",
    "For a given stratification, the overall size of the sample and the allocation in the different strata can be determined on the basis of constraints placed on the expected accuracy of the various estimates regarding the survey variables (Y).\n",
    "\n",
    "If the target survey variables are more than one the optimization problem is said to be *multivariate*; otherwise it is *univariate*.\n",
    "\n",
    "For a given stratification, in the univariate case the optimization of the allocation is in general based on the *Neyman allocation*. In the univariate case it is possible to make use of the *Bethel algorithm*.\n",
    "\n",
    "The criteria according to which stratification is defined are crucial for the efficiency of the sample.\n",
    "\n",
    "With the same precision constraints, the overall size of the sample required to satisfy them may be significantly affected by the particular stratification chosen for the population of interest.\n",
    "\n",
    "Given G survey variables, their sampling variance is:\n",
    "\n",
    "$$Var(\\hat{Y_{g}})=\\sum_{h=1}^{H}N_{h}^{2} (1- \\frac{ \n",
    "  n_{h}}\n",
    "  {N_{h}}) \\frac{ \n",
    "  S_{h,g}^{2}}\n",
    "  {n_{h}} \\;\\;\\;  g=1,...,G$$ \n",
    "\n",
    "If we introduce the following cost function:\n",
    "\n",
    "$$C(n_{1},...,n_{H})=C_{0}+\\sum_{h=1}^{H}C_{h}n_{h} $$\n",
    "\n",
    "the optimization problem can be formalized in this way:\n",
    "\n",
    "$$min= C_{0}+\\sum_{h=1}^{H}C_{h}n_{h}\\\\ $$\n",
    "under the constraints\n",
    "$$ \n",
    "\\begin{cases} \n",
    "CV(\\hat{Y_{1}}) < U_{1}\\\\ \n",
    "CV(\\hat{Y_{2}}) < U_{2}\\\\\n",
    "...\\\\\n",
    "CV(\\hat{Y_{G}}) < U_{G}\\\\\n",
    "\\end{cases}\n",
    "$$\n",
    "where\n",
    "$$ CV(\\hat{Y_{g}}) = \\frac{\\sqrt{Var(\\hat{Y_{g}})} } {mean(\\hat{Y_{g}})}$$\n",
    "\n",
    "Given a population frame with m auxiliary variables \n",
    "$X_{1},..., X_{M}$ \n",
    "we define as *atomic stratification* \n",
    "the one that can be obtained considering the cartesian product of the definition domains of the m variables.\n",
    "$$L=\\{(l_{1}),(l_{2}),...,(l_{k})\\}$$\n",
    "Starting from the atomic stratification, it is possible to generate all the different stratifications that belong to the universe of stratifications. For example:\n",
    "\n",
    "$$\n",
    "\\begin{align*}\n",
    "&P_{1}=\\{(l_{1},l_{2},l_{3})\\} & P_{2}=\\{(l_{1}),(l_{2},l_{3})\\} \\\\\n",
    "&P_{2}=\\{(l_{2}),(l_{1},l_{3})\\} & P_{4}=\\{(l_{31}),(l_{1},l_{2})\\} \\\\\n",
    "&P_{5}=\\{(l_{1}),(l_{2}),(l_{k})\\}\n",
    "\\end{align*}\n",
    "$$\n",
    "\n",
    "The number of feasible stratifications  is exponential with respect to the number of initial atomic strata:\n",
    "\n",
    "$$\n",
    "\\begin{align*}\n",
    "& B_{4}=15 & B_{10}=115975 &\n",
    "& B_{100}\\approx 4.76 \\times 10^{115} \n",
    "\\end{align*}\n",
    "$$\n",
    "\n",
    "In concrete cases, it is therefore impossible to examine all the different possible alternative stratifications. \n",
    "\n",
    "The *Genetic Algorithm* allows to explore the universe of stratifications in a very efficient way in order to find the optimal (or close to optimal) solution.\n",
    "\n",
    "Choosing the *atomic* method, the application of the genetic algorithm is based on the following steps:\n",
    "\n",
    "1. the *atomic stratification* is built by cross-classifying the units in the frame using all the values in the domains of definition of all the stratification variables X, and aggregating units that have the same combinations of values;\n",
    "2. all alternative stratifications are produced by aggregating atomic strata;\n",
    "3. a given stratification is considered as an _individual_ in a population (= _generation_) subject to _evolution_;\n",
    "4. each individual is characterized by a _genome_ represented by a vector of dimension equal to the number of atomic strata: the position of each element in the vector identifies an atomic stratum;\n",
    "5. each element in the vector is assigned a random value between 1 and K (maximum acceptable number of  strata): the vector therefore indicates the way in which the individual atomic strata are aggregated together;\n",
    "6. for each individual (stratification) its _fitness_ is calculated by solving the corresponding problem of optimal allocation by means of Bethel's algorithm;\n",
    "7. in passing from one generation to the next, _individuals with higher fitness are favored_;\n",
    "8. at the end of the process of evolution, the individual with the overall best fitness represents the optimal solution.\n",
    "\n",
    "Instead, choosing the *continuous* or the *spatial* method, steps are the following:\n",
    "\n",
    "1. all alternative stratifications are produced by randomly generating a number of cuts in the domains of definition of the continuous stratification variables X;\n",
    "2. a given stratification is considered as an _individual_ in a population (= _generation_) subject to _evolution_;\n",
    "3. each individual is characterized by a _genome_ represented by a vector of dimension equal to the number of cuts product the number of stratification variables X;\n",
    "4. for each individual (stratification) its _fitness_ is calculated by solving the corresponding problem of optimal allocation by means of Bethel's algorithm;\n",
    "5. in passing from one generation to the next, _individuals with higher fitness are favored_;\n",
    "6. at the end of the process of evolution, the individual with the overall best fitness represents the optimal solution.\n",
    "\n",
    "\n"
   ]
  },
  {
   "cell_type": "code",
   "execution_count": null,
   "id": "6b99041c-46bc-4dd2-95c8-422552378e30",
   "metadata": {},
   "outputs": [],
   "source": []
  }
 ],
 "metadata": {
  "kernelspec": {
   "display_name": "R",
   "language": "R",
   "name": "ir"
  },
  "language_info": {
   "codemirror_mode": "r",
   "file_extension": ".r",
   "mimetype": "text/x-r-source",
   "name": "R",
   "pygments_lexer": "r",
   "version": "4.1.1"
  }
 },
 "nbformat": 4,
 "nbformat_minor": 5
}
